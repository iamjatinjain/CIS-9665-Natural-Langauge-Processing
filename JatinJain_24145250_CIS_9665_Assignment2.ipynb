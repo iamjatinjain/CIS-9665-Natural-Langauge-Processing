{
  "nbformat": 4,
  "nbformat_minor": 0,
  "metadata": {
    "colab": {
      "name": "JatinJain_24145250_CIS 9665_Assignment2.ipynb",
      "provenance": [],
      "collapsed_sections": []
    },
    "kernelspec": {
      "name": "python3",
      "display_name": "Python 3"
    },
    "language_info": {
      "name": "python"
    }
  },
  "cells": [
    {
      "cell_type": "code",
      "execution_count": 1,
      "metadata": {
        "colab": {
          "base_uri": "https://localhost:8080/"
        },
        "id": "Cs8weaD_zKGd",
        "outputId": "17fa2fae-2b56-4af4-fd63-25e147b8bbf0"
      },
      "outputs": [
        {
          "output_type": "stream",
          "name": "stdout",
          "text": [
            "Student Name: Jatin Jain\n",
            "Student ID: 24145250\n"
          ]
        }
      ],
      "source": [
        "print(\"Student Name: Jatin Jain\")\n",
        "print(\"Student ID: 24145250\")"
      ]
    },
    {
      "cell_type": "markdown",
      "source": [
        "#Part 1. Implementing a Sentiment Analysis"
      ],
      "metadata": {
        "id": "Dmhb5RGR20re"
      }
    },
    {
      "cell_type": "markdown",
      "source": [
        "1-1. Use your own data set, run a sentiment analysis and show the outputs.\n",
        "You are free to choose any data set which contains texts which can be your input\n",
        "features."
      ],
      "metadata": {
        "id": "xo5_VECz25ui"
      }
    },
    {
      "cell_type": "code",
      "source": [
        "import pandas as pd\n",
        "\n",
        "#source of the data: https://datahub.cusp.nyu.edu/ \n",
        "#Center for Urban Science and Progress Data Hub by NYU\n",
        "\n",
        "#reading the file and putting it in dataframe\n",
        "tweet = pd.read_csv('/content/drive/MyDrive/Applied NLP/tweet data.csv')\n",
        "\n",
        "print(tweet.iloc[:10,:1])\n",
        "print(\"Shape:\", tweet.shape)\n",
        "print(\"Column Names\", tweet.columns.values)"
      ],
      "metadata": {
        "colab": {
          "base_uri": "https://localhost:8080/"
        },
        "id": "0DkxpTTTzklW",
        "outputId": "77a008f9-61c9-4be3-b68b-dfc77de9a219"
      },
      "execution_count": 2,
      "outputs": [
        {
          "output_type": "stream",
          "name": "stdout",
          "text": [
            "   Emotion\n",
            "0      joy\n",
            "1     fear\n",
            "2    anger\n",
            "3  sadness\n",
            "4  disgust\n",
            "5    shame\n",
            "6    guilt\n",
            "7      joy\n",
            "8     fear\n",
            "9    anger\n",
            "Shape: (7652, 2)\n",
            "Column Names ['Emotion' 'Text']\n"
          ]
        }
      ]
    },
    {
      "cell_type": "code",
      "source": [
        "#Pre-processing of data\n",
        "\n",
        "category= tweet['Emotion']\n",
        "label = list(set(category))\n",
        "print ('possible categories', label)\n",
        "\n",
        "counts = tweet['Emotion'].value_counts()\n",
        "print(counts)"
      ],
      "metadata": {
        "colab": {
          "base_uri": "https://localhost:8080/"
        },
        "id": "ifvHATayzngj",
        "outputId": "03628fc1-2687-400e-93d1-84d23e1285bc"
      },
      "execution_count": 3,
      "outputs": [
        {
          "output_type": "stream",
          "name": "stdout",
          "text": [
            "possible categories ['sadness', 'guilt', 'joy', 'fear', 'anger', 'disgust', 'shame']\n",
            "anger      1094\n",
            "sadness    1094\n",
            "disgust    1094\n",
            "shame      1094\n",
            "fear       1093\n",
            "joy        1092\n",
            "guilt      1091\n",
            "Name: Emotion, dtype: int64\n"
          ]
        }
      ]
    },
    {
      "cell_type": "code",
      "source": [
        "#checkign first 5 rows of the dataframe\n",
        "\n",
        "tweet.head()"
      ],
      "metadata": {
        "colab": {
          "base_uri": "https://localhost:8080/",
          "height": 206
        },
        "id": "KKi7fKXlzqcZ",
        "outputId": "954117df-6dbd-482d-8795-4db262f3f3ab"
      },
      "execution_count": 4,
      "outputs": [
        {
          "output_type": "execute_result",
          "data": {
            "text/plain": [
              "   Emotion                                               Text\n",
              "0      joy  On days when I feel close to my partner and ot...\n",
              "1     fear  Every time I imagine that someone I love or I ...\n",
              "2    anger  When I had been obviously unjustly treated and...\n",
              "3  sadness  When I think about the short time that we live...\n",
              "4  disgust  At a gathering I found myself involuntarily si..."
            ],
            "text/html": [
              "\n",
              "  <div id=\"df-96dd7fa6-a9d9-4771-bf66-f503f2ce8aee\">\n",
              "    <div class=\"colab-df-container\">\n",
              "      <div>\n",
              "<style scoped>\n",
              "    .dataframe tbody tr th:only-of-type {\n",
              "        vertical-align: middle;\n",
              "    }\n",
              "\n",
              "    .dataframe tbody tr th {\n",
              "        vertical-align: top;\n",
              "    }\n",
              "\n",
              "    .dataframe thead th {\n",
              "        text-align: right;\n",
              "    }\n",
              "</style>\n",
              "<table border=\"1\" class=\"dataframe\">\n",
              "  <thead>\n",
              "    <tr style=\"text-align: right;\">\n",
              "      <th></th>\n",
              "      <th>Emotion</th>\n",
              "      <th>Text</th>\n",
              "    </tr>\n",
              "  </thead>\n",
              "  <tbody>\n",
              "    <tr>\n",
              "      <th>0</th>\n",
              "      <td>joy</td>\n",
              "      <td>On days when I feel close to my partner and ot...</td>\n",
              "    </tr>\n",
              "    <tr>\n",
              "      <th>1</th>\n",
              "      <td>fear</td>\n",
              "      <td>Every time I imagine that someone I love or I ...</td>\n",
              "    </tr>\n",
              "    <tr>\n",
              "      <th>2</th>\n",
              "      <td>anger</td>\n",
              "      <td>When I had been obviously unjustly treated and...</td>\n",
              "    </tr>\n",
              "    <tr>\n",
              "      <th>3</th>\n",
              "      <td>sadness</td>\n",
              "      <td>When I think about the short time that we live...</td>\n",
              "    </tr>\n",
              "    <tr>\n",
              "      <th>4</th>\n",
              "      <td>disgust</td>\n",
              "      <td>At a gathering I found myself involuntarily si...</td>\n",
              "    </tr>\n",
              "  </tbody>\n",
              "</table>\n",
              "</div>\n",
              "      <button class=\"colab-df-convert\" onclick=\"convertToInteractive('df-96dd7fa6-a9d9-4771-bf66-f503f2ce8aee')\"\n",
              "              title=\"Convert this dataframe to an interactive table.\"\n",
              "              style=\"display:none;\">\n",
              "        \n",
              "  <svg xmlns=\"http://www.w3.org/2000/svg\" height=\"24px\"viewBox=\"0 0 24 24\"\n",
              "       width=\"24px\">\n",
              "    <path d=\"M0 0h24v24H0V0z\" fill=\"none\"/>\n",
              "    <path d=\"M18.56 5.44l.94 2.06.94-2.06 2.06-.94-2.06-.94-.94-2.06-.94 2.06-2.06.94zm-11 1L8.5 8.5l.94-2.06 2.06-.94-2.06-.94L8.5 2.5l-.94 2.06-2.06.94zm10 10l.94 2.06.94-2.06 2.06-.94-2.06-.94-.94-2.06-.94 2.06-2.06.94z\"/><path d=\"M17.41 7.96l-1.37-1.37c-.4-.4-.92-.59-1.43-.59-.52 0-1.04.2-1.43.59L10.3 9.45l-7.72 7.72c-.78.78-.78 2.05 0 2.83L4 21.41c.39.39.9.59 1.41.59.51 0 1.02-.2 1.41-.59l7.78-7.78 2.81-2.81c.8-.78.8-2.07 0-2.86zM5.41 20L4 18.59l7.72-7.72 1.47 1.35L5.41 20z\"/>\n",
              "  </svg>\n",
              "      </button>\n",
              "      \n",
              "  <style>\n",
              "    .colab-df-container {\n",
              "      display:flex;\n",
              "      flex-wrap:wrap;\n",
              "      gap: 12px;\n",
              "    }\n",
              "\n",
              "    .colab-df-convert {\n",
              "      background-color: #E8F0FE;\n",
              "      border: none;\n",
              "      border-radius: 50%;\n",
              "      cursor: pointer;\n",
              "      display: none;\n",
              "      fill: #1967D2;\n",
              "      height: 32px;\n",
              "      padding: 0 0 0 0;\n",
              "      width: 32px;\n",
              "    }\n",
              "\n",
              "    .colab-df-convert:hover {\n",
              "      background-color: #E2EBFA;\n",
              "      box-shadow: 0px 1px 2px rgba(60, 64, 67, 0.3), 0px 1px 3px 1px rgba(60, 64, 67, 0.15);\n",
              "      fill: #174EA6;\n",
              "    }\n",
              "\n",
              "    [theme=dark] .colab-df-convert {\n",
              "      background-color: #3B4455;\n",
              "      fill: #D2E3FC;\n",
              "    }\n",
              "\n",
              "    [theme=dark] .colab-df-convert:hover {\n",
              "      background-color: #434B5C;\n",
              "      box-shadow: 0px 1px 3px 1px rgba(0, 0, 0, 0.15);\n",
              "      filter: drop-shadow(0px 1px 2px rgba(0, 0, 0, 0.3));\n",
              "      fill: #FFFFFF;\n",
              "    }\n",
              "  </style>\n",
              "\n",
              "      <script>\n",
              "        const buttonEl =\n",
              "          document.querySelector('#df-96dd7fa6-a9d9-4771-bf66-f503f2ce8aee button.colab-df-convert');\n",
              "        buttonEl.style.display =\n",
              "          google.colab.kernel.accessAllowed ? 'block' : 'none';\n",
              "\n",
              "        async function convertToInteractive(key) {\n",
              "          const element = document.querySelector('#df-96dd7fa6-a9d9-4771-bf66-f503f2ce8aee');\n",
              "          const dataTable =\n",
              "            await google.colab.kernel.invokeFunction('convertToInteractive',\n",
              "                                                     [key], {});\n",
              "          if (!dataTable) return;\n",
              "\n",
              "          const docLinkHtml = 'Like what you see? Visit the ' +\n",
              "            '<a target=\"_blank\" href=https://colab.research.google.com/notebooks/data_table.ipynb>data table notebook</a>'\n",
              "            + ' to learn more about interactive tables.';\n",
              "          element.innerHTML = '';\n",
              "          dataTable['output_type'] = 'display_data';\n",
              "          await google.colab.output.renderOutput(dataTable, element);\n",
              "          const docLink = document.createElement('div');\n",
              "          docLink.innerHTML = docLinkHtml;\n",
              "          element.appendChild(docLink);\n",
              "        }\n",
              "      </script>\n",
              "    </div>\n",
              "  </div>\n",
              "  "
            ]
          },
          "metadata": {},
          "execution_count": 4
        }
      ]
    },
    {
      "cell_type": "markdown",
      "source": [
        "#Benchmark - Textblob"
      ],
      "metadata": {
        "id": "g4TuKIfR7h_c"
      }
    },
    {
      "cell_type": "code",
      "source": [
        "from textblob import TextBlob"
      ],
      "metadata": {
        "id": "vMHW1uJ4zsuy"
      },
      "execution_count": 5,
      "outputs": []
    },
    {
      "cell_type": "code",
      "source": [
        "import regex as re\n",
        "\n",
        "def cleaning(text):\n",
        "# Removes all special characters and numericals leaving the alphabets\n",
        "    text = re.sub('[^A-Za-z]+', ' ', text)\n",
        "    return text\n",
        "\n",
        "# Cleaning the text in the review column\n",
        "tweet['Clean_text'] = tweet['Text'].apply(cleaning)\n",
        "\n",
        "#movie.head()\n",
        "print (tweet.iloc[100:120,:])"
      ],
      "metadata": {
        "colab": {
          "base_uri": "https://localhost:8080/"
        },
        "id": "Uy4uZDn4zvIG",
        "outputId": "972e0a8a-bd1c-499a-a92c-19ffcb982436"
      },
      "execution_count": 6,
      "outputs": [
        {
          "output_type": "stream",
          "name": "stdout",
          "text": [
            "     Emotion                                               Text  \\\n",
            "100    anger  When my boyfriend went away for a month long h...   \n",
            "101  sadness  Last year when I worked during the Summer holi...   \n",
            "102  disgust         When a dog is left whining outside a shop.   \n",
            "103    shame  When I promised to help a friend over a weeken...   \n",
            "104    guilt  When I realized that I had three more examinat...   \n",
            "105      joy  The day I was told that I had been accepted as...   \n",
            "106     fear  While taking a short cut through the Vasa park...   \n",
            "107    anger  At a restaurant I observed how the gypsies tri...   \n",
            "108  sadness  At the begining of a new course one is afraid ...   \n",
            "109  disgust  While walking in town I noticed how the police...   \n",
            "110    shame  When my boyfriend revealed that he knew that I...   \n",
            "111    guilt  When I am dishonest to a friend to whom I am v...   \n",
            "112      joy  When I found out that I had passed the last tw...   \n",
            "113     fear  When my father was ill and was waiting for the...   \n",
            "114    anger  When I got caught in the pouring rain last Thu...   \n",
            "115  sadness                             When I failed an exam.   \n",
            "116  disgust  At a Sm÷rgasbord table, a man mixed differnet ...   \n",
            "117    shame  When I had not prepared my contribution to the...   \n",
            "118    guilt  When my father and I worked on the house just ...   \n",
            "119      joy  When I gave birth to my son and saw that he wa...   \n",
            "\n",
            "                                            Clean_text  \n",
            "100  When my boyfriend went away for a month long h...  \n",
            "101  Last year when I worked during the Summer holi...  \n",
            "102         When a dog is left whining outside a shop   \n",
            "103  When I promised to help a friend over a weeken...  \n",
            "104  When I realized that I had three more examinat...  \n",
            "105  The day I was told that I had been accepted as...  \n",
            "106  While taking a short cut through the Vasa park...  \n",
            "107  At a restaurant I observed how the gypsies tri...  \n",
            "108  At the begining of a new course one is afraid ...  \n",
            "109  While walking in town I noticed how the police...  \n",
            "110  When my boyfriend revealed that he knew that I...  \n",
            "111  When I am dishonest to a friend to whom I am v...  \n",
            "112  When I found out that I had passed the last tw...  \n",
            "113  When my father was ill and was waiting for the...  \n",
            "114  When I got caught in the pouring rain last Thu...  \n",
            "115                             When I failed an exam   \n",
            "116  At a Sm rgasbord table a man mixed differnet k...  \n",
            "117  When I had not prepared my contribution to the...  \n",
            "118  When my father and I worked on the house just ...  \n",
            "119  When I gave birth to my son and saw that he wa...  \n"
          ]
        }
      ]
    },
    {
      "cell_type": "code",
      "source": [
        "tweet['Clean_text']=tweet['Clean_text'].str.lower()\n",
        "\n",
        "print (tweet.iloc[100:120,:])"
      ],
      "metadata": {
        "colab": {
          "base_uri": "https://localhost:8080/"
        },
        "id": "hZ7q64TWzyWb",
        "outputId": "bd138744-3a3c-4735-daab-158204d27beb"
      },
      "execution_count": 7,
      "outputs": [
        {
          "output_type": "stream",
          "name": "stdout",
          "text": [
            "     Emotion                                               Text  \\\n",
            "100    anger  When my boyfriend went away for a month long h...   \n",
            "101  sadness  Last year when I worked during the Summer holi...   \n",
            "102  disgust         When a dog is left whining outside a shop.   \n",
            "103    shame  When I promised to help a friend over a weeken...   \n",
            "104    guilt  When I realized that I had three more examinat...   \n",
            "105      joy  The day I was told that I had been accepted as...   \n",
            "106     fear  While taking a short cut through the Vasa park...   \n",
            "107    anger  At a restaurant I observed how the gypsies tri...   \n",
            "108  sadness  At the begining of a new course one is afraid ...   \n",
            "109  disgust  While walking in town I noticed how the police...   \n",
            "110    shame  When my boyfriend revealed that he knew that I...   \n",
            "111    guilt  When I am dishonest to a friend to whom I am v...   \n",
            "112      joy  When I found out that I had passed the last tw...   \n",
            "113     fear  When my father was ill and was waiting for the...   \n",
            "114    anger  When I got caught in the pouring rain last Thu...   \n",
            "115  sadness                             When I failed an exam.   \n",
            "116  disgust  At a Sm÷rgasbord table, a man mixed differnet ...   \n",
            "117    shame  When I had not prepared my contribution to the...   \n",
            "118    guilt  When my father and I worked on the house just ...   \n",
            "119      joy  When I gave birth to my son and saw that he wa...   \n",
            "\n",
            "                                            Clean_text  \n",
            "100  when my boyfriend went away for a month long h...  \n",
            "101  last year when i worked during the summer holi...  \n",
            "102         when a dog is left whining outside a shop   \n",
            "103  when i promised to help a friend over a weeken...  \n",
            "104  when i realized that i had three more examinat...  \n",
            "105  the day i was told that i had been accepted as...  \n",
            "106  while taking a short cut through the vasa park...  \n",
            "107  at a restaurant i observed how the gypsies tri...  \n",
            "108  at the begining of a new course one is afraid ...  \n",
            "109  while walking in town i noticed how the police...  \n",
            "110  when my boyfriend revealed that he knew that i...  \n",
            "111  when i am dishonest to a friend to whom i am v...  \n",
            "112  when i found out that i had passed the last tw...  \n",
            "113  when my father was ill and was waiting for the...  \n",
            "114  when i got caught in the pouring rain last thu...  \n",
            "115                             when i failed an exam   \n",
            "116  at a sm rgasbord table a man mixed differnet k...  \n",
            "117  when i had not prepared my contribution to the...  \n",
            "118  when my father and i worked on the house just ...  \n",
            "119  when i gave birth to my son and saw that he wa...  \n"
          ]
        }
      ]
    },
    {
      "cell_type": "code",
      "source": [
        "from nltk.tokenize import regexp_tokenize\n",
        "from nltk import RegexpTokenizer\n",
        "\n",
        "tokenizer_re=RegexpTokenizer(\"[\\w]+\")\n",
        "\n",
        "tweet['Clean_text']=tweet['Clean_text'].map(tokenizer_re.tokenize)\n",
        "print (tweet.iloc[100:120,:])"
      ],
      "metadata": {
        "colab": {
          "base_uri": "https://localhost:8080/"
        },
        "id": "EATS0YtWz1Zv",
        "outputId": "214c41bc-730e-4207-aa77-9772897d0744"
      },
      "execution_count": 8,
      "outputs": [
        {
          "output_type": "stream",
          "name": "stdout",
          "text": [
            "     Emotion                                               Text  \\\n",
            "100    anger  When my boyfriend went away for a month long h...   \n",
            "101  sadness  Last year when I worked during the Summer holi...   \n",
            "102  disgust         When a dog is left whining outside a shop.   \n",
            "103    shame  When I promised to help a friend over a weeken...   \n",
            "104    guilt  When I realized that I had three more examinat...   \n",
            "105      joy  The day I was told that I had been accepted as...   \n",
            "106     fear  While taking a short cut through the Vasa park...   \n",
            "107    anger  At a restaurant I observed how the gypsies tri...   \n",
            "108  sadness  At the begining of a new course one is afraid ...   \n",
            "109  disgust  While walking in town I noticed how the police...   \n",
            "110    shame  When my boyfriend revealed that he knew that I...   \n",
            "111    guilt  When I am dishonest to a friend to whom I am v...   \n",
            "112      joy  When I found out that I had passed the last tw...   \n",
            "113     fear  When my father was ill and was waiting for the...   \n",
            "114    anger  When I got caught in the pouring rain last Thu...   \n",
            "115  sadness                             When I failed an exam.   \n",
            "116  disgust  At a Sm÷rgasbord table, a man mixed differnet ...   \n",
            "117    shame  When I had not prepared my contribution to the...   \n",
            "118    guilt  When my father and I worked on the house just ...   \n",
            "119      joy  When I gave birth to my son and saw that he wa...   \n",
            "\n",
            "                                            Clean_text  \n",
            "100  [when, my, boyfriend, went, away, for, a, mont...  \n",
            "101  [last, year, when, i, worked, during, the, sum...  \n",
            "102  [when, a, dog, is, left, whining, outside, a, ...  \n",
            "103  [when, i, promised, to, help, a, friend, over,...  \n",
            "104  [when, i, realized, that, i, had, three, more,...  \n",
            "105  [the, day, i, was, told, that, i, had, been, a...  \n",
            "106  [while, taking, a, short, cut, through, the, v...  \n",
            "107  [at, a, restaurant, i, observed, how, the, gyp...  \n",
            "108  [at, the, begining, of, a, new, course, one, i...  \n",
            "109  [while, walking, in, town, i, noticed, how, th...  \n",
            "110  [when, my, boyfriend, revealed, that, he, knew...  \n",
            "111  [when, i, am, dishonest, to, a, friend, to, wh...  \n",
            "112  [when, i, found, out, that, i, had, passed, th...  \n",
            "113  [when, my, father, was, ill, and, was, waiting...  \n",
            "114  [when, i, got, caught, in, the, pouring, rain,...  \n",
            "115                        [when, i, failed, an, exam]  \n",
            "116  [at, a, sm, rgasbord, table, a, man, mixed, di...  \n",
            "117  [when, i, had, not, prepared, my, contribution...  \n",
            "118  [when, my, father, and, i, worked, on, the, ho...  \n",
            "119  [when, i, gave, birth, to, my, son, and, saw, ...  \n"
          ]
        }
      ]
    },
    {
      "cell_type": "code",
      "source": [
        "import nltk\n",
        "from nltk.corpus import stopwords\n",
        "nltk.download('stopwords')\n",
        "nltk_stop_words=stopwords.words('english')\n",
        "\n",
        "\n",
        "tweet['Clean_text']=tweet['Clean_text'].apply(lambda words: [word for word in words if word not in nltk_stop_words and len(word)>2])\n",
        "print (tweet.iloc[100:120,:])"
      ],
      "metadata": {
        "colab": {
          "base_uri": "https://localhost:8080/"
        },
        "id": "zDpC_qOY0IEe",
        "outputId": "71020303-0240-454c-f7e6-a163c4860169"
      },
      "execution_count": 9,
      "outputs": [
        {
          "output_type": "stream",
          "name": "stdout",
          "text": [
            "[nltk_data] Downloading package stopwords to /root/nltk_data...\n",
            "[nltk_data]   Unzipping corpora/stopwords.zip.\n",
            "     Emotion                                               Text  \\\n",
            "100    anger  When my boyfriend went away for a month long h...   \n",
            "101  sadness  Last year when I worked during the Summer holi...   \n",
            "102  disgust         When a dog is left whining outside a shop.   \n",
            "103    shame  When I promised to help a friend over a weeken...   \n",
            "104    guilt  When I realized that I had three more examinat...   \n",
            "105      joy  The day I was told that I had been accepted as...   \n",
            "106     fear  While taking a short cut through the Vasa park...   \n",
            "107    anger  At a restaurant I observed how the gypsies tri...   \n",
            "108  sadness  At the begining of a new course one is afraid ...   \n",
            "109  disgust  While walking in town I noticed how the police...   \n",
            "110    shame  When my boyfriend revealed that he knew that I...   \n",
            "111    guilt  When I am dishonest to a friend to whom I am v...   \n",
            "112      joy  When I found out that I had passed the last tw...   \n",
            "113     fear  When my father was ill and was waiting for the...   \n",
            "114    anger  When I got caught in the pouring rain last Thu...   \n",
            "115  sadness                             When I failed an exam.   \n",
            "116  disgust  At a Sm÷rgasbord table, a man mixed differnet ...   \n",
            "117    shame  When I had not prepared my contribution to the...   \n",
            "118    guilt  When my father and I worked on the house just ...   \n",
            "119      joy  When I gave birth to my son and saw that he wa...   \n",
            "\n",
            "                                            Clean_text  \n",
            "100  [boyfriend, went, away, month, long, holiday, ...  \n",
            "101  [last, year, worked, summer, holidays, studied...  \n",
            "102                [dog, left, whining, outside, shop]  \n",
            "103   [promised, help, friend, weekend, keep, promise]  \n",
            "104              [realized, three, examinations, take]  \n",
            "105          [day, told, accepted, student, economics]  \n",
            "106  [taking, short, cut, vasa, park, surrounded, t...  \n",
            "107  [restaurant, observed, gypsies, tried, get, mo...  \n",
            "108  [begining, new, course, one, afraid, encounter...  \n",
            "109  [walking, town, noticed, police, harrassed, ma...  \n",
            "110  [boyfriend, revealed, knew, discovered, things...  \n",
            "111  [dishonest, friend, close, feel, guilty, know,...  \n",
            "112  [found, passed, last, two, exams, margin, thre...  \n",
            "113             [father, ill, waiting, results, tests]  \n",
            "114  [got, caught, pouring, rain, last, thursday, r...  \n",
            "115                                     [failed, exam]  \n",
            "116  [rgasbord, table, man, mixed, differnet, kinds...  \n",
            "117  [prepared, contribution, group, thoroughly, me...  \n",
            "118  [father, worked, house, recovered, illness, ra...  \n",
            "119  [gave, birth, son, saw, alive, managed, well, ...  \n"
          ]
        }
      ]
    },
    {
      "cell_type": "code",
      "source": [
        "tweet['Clean_text_to_string']=tweet['Clean_text'].apply(lambda x: (' '.join(x)))\n",
        "print (tweet.iloc[100:120,:])"
      ],
      "metadata": {
        "colab": {
          "base_uri": "https://localhost:8080/"
        },
        "id": "HSTcr7HH0MRF",
        "outputId": "16e63266-497d-43e8-c5eb-f73b4d3a915b"
      },
      "execution_count": 10,
      "outputs": [
        {
          "output_type": "stream",
          "name": "stdout",
          "text": [
            "     Emotion                                               Text  \\\n",
            "100    anger  When my boyfriend went away for a month long h...   \n",
            "101  sadness  Last year when I worked during the Summer holi...   \n",
            "102  disgust         When a dog is left whining outside a shop.   \n",
            "103    shame  When I promised to help a friend over a weeken...   \n",
            "104    guilt  When I realized that I had three more examinat...   \n",
            "105      joy  The day I was told that I had been accepted as...   \n",
            "106     fear  While taking a short cut through the Vasa park...   \n",
            "107    anger  At a restaurant I observed how the gypsies tri...   \n",
            "108  sadness  At the begining of a new course one is afraid ...   \n",
            "109  disgust  While walking in town I noticed how the police...   \n",
            "110    shame  When my boyfriend revealed that he knew that I...   \n",
            "111    guilt  When I am dishonest to a friend to whom I am v...   \n",
            "112      joy  When I found out that I had passed the last tw...   \n",
            "113     fear  When my father was ill and was waiting for the...   \n",
            "114    anger  When I got caught in the pouring rain last Thu...   \n",
            "115  sadness                             When I failed an exam.   \n",
            "116  disgust  At a Sm÷rgasbord table, a man mixed differnet ...   \n",
            "117    shame  When I had not prepared my contribution to the...   \n",
            "118    guilt  When my father and I worked on the house just ...   \n",
            "119      joy  When I gave birth to my son and saw that he wa...   \n",
            "\n",
            "                                            Clean_text  \\\n",
            "100  [boyfriend, went, away, month, long, holiday, ...   \n",
            "101  [last, year, worked, summer, holidays, studied...   \n",
            "102                [dog, left, whining, outside, shop]   \n",
            "103   [promised, help, friend, weekend, keep, promise]   \n",
            "104              [realized, three, examinations, take]   \n",
            "105          [day, told, accepted, student, economics]   \n",
            "106  [taking, short, cut, vasa, park, surrounded, t...   \n",
            "107  [restaurant, observed, gypsies, tried, get, mo...   \n",
            "108  [begining, new, course, one, afraid, encounter...   \n",
            "109  [walking, town, noticed, police, harrassed, ma...   \n",
            "110  [boyfriend, revealed, knew, discovered, things...   \n",
            "111  [dishonest, friend, close, feel, guilty, know,...   \n",
            "112  [found, passed, last, two, exams, margin, thre...   \n",
            "113             [father, ill, waiting, results, tests]   \n",
            "114  [got, caught, pouring, rain, last, thursday, r...   \n",
            "115                                     [failed, exam]   \n",
            "116  [rgasbord, table, man, mixed, differnet, kinds...   \n",
            "117  [prepared, contribution, group, thoroughly, me...   \n",
            "118  [father, worked, house, recovered, illness, ra...   \n",
            "119  [gave, birth, son, saw, alive, managed, well, ...   \n",
            "\n",
            "                                  Clean_text_to_string  \n",
            "100     boyfriend went away month long holiday without  \n",
            "101  last year worked summer holidays studied time ...  \n",
            "102                      dog left whining outside shop  \n",
            "103          promised help friend weekend keep promise  \n",
            "104                   realized three examinations take  \n",
            "105                day told accepted student economics  \n",
            "106  taking short cut vasa park surrounded three pe...  \n",
            "107  restaurant observed gypsies tried get money ch...  \n",
            "108  begining new course one afraid encountering pr...  \n",
            "109  walking town noticed police harrassed man infl...  \n",
            "110  boyfriend revealed knew discovered things impo...  \n",
            "111  dishonest friend close feel guilty know gives ...  \n",
            "112     found passed last two exams margin three marks  \n",
            "113                   father ill waiting results tests  \n",
            "114     got caught pouring rain last thursday raincoat  \n",
            "115                                        failed exam  \n",
            "116  rgasbord table man mixed differnet kinds picke...  \n",
            "117  prepared contribution group thoroughly members...  \n",
            "118  father worked house recovered illness rather l...  \n",
            "119  gave birth son saw alive managed well born mon...  \n"
          ]
        }
      ]
    },
    {
      "cell_type": "code",
      "source": [
        "# Lemmatization.-> This may takes some times.\n",
        "\n",
        "import nltk\n",
        "#Example of PoS taggings on tokenized sentence.\n",
        "nltk.download('averaged_perceptron_tagger')\n",
        "\n",
        "from nltk.corpus import wordnet\n",
        "from nltk.stem import WordNetLemmatizer\n",
        "nltk.download('wordnet')\n",
        "\n",
        "def get_pos_tags(word):\n",
        "    \"\"\"Map PoS tag to first character lemmatize() accepts\"\"\"\n",
        "    tag = nltk.pos_tag([word])[0][1][0].upper()\n",
        "    tag_dict = {\"J\": wordnet.ADJ, #adjective\n",
        "                \"N\": wordnet.NOUN,#noun\n",
        "                \"V\": wordnet.VERB,#verb\n",
        "                \"R\": wordnet.ADV} #adverb\n",
        "\n",
        "    return tag_dict.get(tag, wordnet.NOUN)\n",
        "\n",
        "\n",
        "def lemmatize_text(text):\n",
        "  text=[WordNetLemmatizer().lemmatize(w, get_pos_tags(w)) for w in text]   \n",
        "  return text\n",
        "\n",
        "tweet['Clean_text']=tweet['Clean_text'].apply(lemmatize_text)\n",
        "print (tweet.iloc[100:120,:])"
      ],
      "metadata": {
        "colab": {
          "base_uri": "https://localhost:8080/"
        },
        "id": "fsgHHbNT0QbY",
        "outputId": "9c4ba409-488c-4030-c346-e2fc29794b46"
      },
      "execution_count": 11,
      "outputs": [
        {
          "output_type": "stream",
          "name": "stdout",
          "text": [
            "[nltk_data] Downloading package averaged_perceptron_tagger to\n",
            "[nltk_data]     /root/nltk_data...\n",
            "[nltk_data]   Unzipping taggers/averaged_perceptron_tagger.zip.\n",
            "[nltk_data] Downloading package wordnet to /root/nltk_data...\n",
            "[nltk_data]   Unzipping corpora/wordnet.zip.\n",
            "     Emotion                                               Text  \\\n",
            "100    anger  When my boyfriend went away for a month long h...   \n",
            "101  sadness  Last year when I worked during the Summer holi...   \n",
            "102  disgust         When a dog is left whining outside a shop.   \n",
            "103    shame  When I promised to help a friend over a weeken...   \n",
            "104    guilt  When I realized that I had three more examinat...   \n",
            "105      joy  The day I was told that I had been accepted as...   \n",
            "106     fear  While taking a short cut through the Vasa park...   \n",
            "107    anger  At a restaurant I observed how the gypsies tri...   \n",
            "108  sadness  At the begining of a new course one is afraid ...   \n",
            "109  disgust  While walking in town I noticed how the police...   \n",
            "110    shame  When my boyfriend revealed that he knew that I...   \n",
            "111    guilt  When I am dishonest to a friend to whom I am v...   \n",
            "112      joy  When I found out that I had passed the last tw...   \n",
            "113     fear  When my father was ill and was waiting for the...   \n",
            "114    anger  When I got caught in the pouring rain last Thu...   \n",
            "115  sadness                             When I failed an exam.   \n",
            "116  disgust  At a Sm÷rgasbord table, a man mixed differnet ...   \n",
            "117    shame  When I had not prepared my contribution to the...   \n",
            "118    guilt  When my father and I worked on the house just ...   \n",
            "119      joy  When I gave birth to my son and saw that he wa...   \n",
            "\n",
            "                                            Clean_text  \\\n",
            "100  [boyfriend, go, away, month, long, holiday, wi...   \n",
            "101  [last, year, work, summer, holiday, study, tim...   \n",
            "102                  [dog, left, whine, outside, shop]   \n",
            "103    [promise, help, friend, weekend, keep, promise]   \n",
            "104                [realize, three, examination, take]   \n",
            "105          [day, told, accepted, student, economics]   \n",
            "106  [take, short, cut, vas, park, surround, three,...   \n",
            "107  [restaurant, observe, gypsy, try, get, money, ...   \n",
            "108  [begining, new, course, one, afraid, encounter...   \n",
            "109  [walk, town, notice, police, harrassed, man, i...   \n",
            "110  [boyfriend, reveal, knew, discover, thing, imp...   \n",
            "111  [dishonest, friend, close, feel, guilty, know,...   \n",
            "112  [found, pass, last, two, exam, margin, three, ...   \n",
            "113                  [father, ill, wait, result, test]   \n",
            "114  [get, caught, pour, rain, last, thursday, rain...   \n",
            "115                                       [fail, exam]   \n",
            "116  [rgasbord, table, man, mixed, differnet, kind,...   \n",
            "117  [prepared, contribution, group, thoroughly, me...   \n",
            "118  [father, work, house, recover, illness, rather...   \n",
            "119  [give, birth, son, saw, alive, manage, well, b...   \n",
            "\n",
            "                                  Clean_text_to_string  \n",
            "100     boyfriend went away month long holiday without  \n",
            "101  last year worked summer holidays studied time ...  \n",
            "102                      dog left whining outside shop  \n",
            "103          promised help friend weekend keep promise  \n",
            "104                   realized three examinations take  \n",
            "105                day told accepted student economics  \n",
            "106  taking short cut vasa park surrounded three pe...  \n",
            "107  restaurant observed gypsies tried get money ch...  \n",
            "108  begining new course one afraid encountering pr...  \n",
            "109  walking town noticed police harrassed man infl...  \n",
            "110  boyfriend revealed knew discovered things impo...  \n",
            "111  dishonest friend close feel guilty know gives ...  \n",
            "112     found passed last two exams margin three marks  \n",
            "113                   father ill waiting results tests  \n",
            "114     got caught pouring rain last thursday raincoat  \n",
            "115                                        failed exam  \n",
            "116  rgasbord table man mixed differnet kinds picke...  \n",
            "117  prepared contribution group thoroughly members...  \n",
            "118  father worked house recovered illness rather l...  \n",
            "119  gave birth son saw alive managed well born mon...  \n"
          ]
        }
      ]
    },
    {
      "cell_type": "code",
      "source": [
        "def polarity(text):\n",
        "  return TextBlob(text).sentiment.polarity\n",
        "\n",
        "def subjectivity(text):\n",
        "  return TextBlob(text).sentiment.subjectivity"
      ],
      "metadata": {
        "id": "CQc5Wedt0U0B"
      },
      "execution_count": 12,
      "outputs": []
    },
    {
      "cell_type": "code",
      "source": [
        "tweet['polarity']=tweet['Clean_text_to_string'].apply(polarity)\n",
        "tweet['subjectivity']=tweet['Clean_text_to_string'].apply(subjectivity)\n",
        "print (tweet.iloc[100:120,:])"
      ],
      "metadata": {
        "colab": {
          "base_uri": "https://localhost:8080/"
        },
        "id": "4hzz1S420bp0",
        "outputId": "6d63883f-f946-4048-d158-92d86458f046"
      },
      "execution_count": 13,
      "outputs": [
        {
          "output_type": "stream",
          "name": "stdout",
          "text": [
            "     Emotion                                               Text  \\\n",
            "100    anger  When my boyfriend went away for a month long h...   \n",
            "101  sadness  Last year when I worked during the Summer holi...   \n",
            "102  disgust         When a dog is left whining outside a shop.   \n",
            "103    shame  When I promised to help a friend over a weeken...   \n",
            "104    guilt  When I realized that I had three more examinat...   \n",
            "105      joy  The day I was told that I had been accepted as...   \n",
            "106     fear  While taking a short cut through the Vasa park...   \n",
            "107    anger  At a restaurant I observed how the gypsies tri...   \n",
            "108  sadness  At the begining of a new course one is afraid ...   \n",
            "109  disgust  While walking in town I noticed how the police...   \n",
            "110    shame  When my boyfriend revealed that he knew that I...   \n",
            "111    guilt  When I am dishonest to a friend to whom I am v...   \n",
            "112      joy  When I found out that I had passed the last tw...   \n",
            "113     fear  When my father was ill and was waiting for the...   \n",
            "114    anger  When I got caught in the pouring rain last Thu...   \n",
            "115  sadness                             When I failed an exam.   \n",
            "116  disgust  At a Sm÷rgasbord table, a man mixed differnet ...   \n",
            "117    shame  When I had not prepared my contribution to the...   \n",
            "118    guilt  When my father and I worked on the house just ...   \n",
            "119      joy  When I gave birth to my son and saw that he wa...   \n",
            "\n",
            "                                            Clean_text  \\\n",
            "100  [boyfriend, go, away, month, long, holiday, wi...   \n",
            "101  [last, year, work, summer, holiday, study, tim...   \n",
            "102                  [dog, left, whine, outside, shop]   \n",
            "103    [promise, help, friend, weekend, keep, promise]   \n",
            "104                [realize, three, examination, take]   \n",
            "105          [day, told, accepted, student, economics]   \n",
            "106  [take, short, cut, vas, park, surround, three,...   \n",
            "107  [restaurant, observe, gypsy, try, get, money, ...   \n",
            "108  [begining, new, course, one, afraid, encounter...   \n",
            "109  [walk, town, notice, police, harrassed, man, i...   \n",
            "110  [boyfriend, reveal, knew, discover, thing, imp...   \n",
            "111  [dishonest, friend, close, feel, guilty, know,...   \n",
            "112  [found, pass, last, two, exam, margin, three, ...   \n",
            "113                  [father, ill, wait, result, test]   \n",
            "114  [get, caught, pour, rain, last, thursday, rain...   \n",
            "115                                       [fail, exam]   \n",
            "116  [rgasbord, table, man, mixed, differnet, kind,...   \n",
            "117  [prepared, contribution, group, thoroughly, me...   \n",
            "118  [father, work, house, recover, illness, rather...   \n",
            "119  [give, birth, son, saw, alive, manage, well, b...   \n",
            "\n",
            "                                  Clean_text_to_string  polarity  subjectivity  \n",
            "100     boyfriend went away month long holiday without -0.050000      0.400000  \n",
            "101  last year worked summer holidays studied time ...  0.000000      0.066667  \n",
            "102                      dog left whining outside shop  0.000000      0.025000  \n",
            "103          promised help friend weekend keep promise  0.000000      0.000000  \n",
            "104                   realized three examinations take  0.000000      0.000000  \n",
            "105                day told accepted student economics  0.000000      0.000000  \n",
            "106  taking short cut vasa park surrounded three pe...  0.000000      0.300000  \n",
            "107  restaurant observed gypsies tried get money ch... -0.700000      0.200000  \n",
            "108  begining new course one afraid encountering pr... -0.157576      0.453220  \n",
            "109  walking town noticed police harrassed man infl...  0.012500      0.325000  \n",
            "110  boyfriend revealed knew discovered things impo...  0.200000      0.750000  \n",
            "111  dishonest friend close feel guilty know gives ... -0.210000      0.650000  \n",
            "112     found passed last two exams margin three marks  0.000000      0.066667  \n",
            "113                   father ill waiting results tests -0.500000      1.000000  \n",
            "114     got caught pouring rain last thursday raincoat  0.000000      0.066667  \n",
            "115                                        failed exam -0.500000      0.300000  \n",
            "116  rgasbord table man mixed differnet kinds picke...  0.000000      0.250000  \n",
            "117  prepared contribution group thoroughly members... -0.200000      0.300000  \n",
            "118  father worked house recovered illness rather l... -0.180556      0.513889  \n",
            "119  gave birth son saw alive managed well born mon...  0.100000      0.350000  \n"
          ]
        }
      ]
    },
    {
      "cell_type": "code",
      "source": [
        "import matplotlib.pyplot as plt\n",
        "\n",
        "#count the frequency of polarity.\n",
        "num_bins=50\n",
        "plt.figure(figsize=(10,6))\n",
        "n, bins, patches=plt.hist(tweet.polarity, num_bins, facecolor='blue')\n",
        "plt.xlabel('polarity')\n",
        "plt.ylabel('count')\n",
        "plt.title('histogram of polarity')\n",
        "plt.show()"
      ],
      "metadata": {
        "colab": {
          "base_uri": "https://localhost:8080/",
          "height": 404
        },
        "id": "iNV2pnSo0d8c",
        "outputId": "3b8eeac1-f431-4689-a2cf-1e69c0271c23"
      },
      "execution_count": 14,
      "outputs": [
        {
          "output_type": "display_data",
          "data": {
            "text/plain": [
              "<Figure size 720x432 with 1 Axes>"
            ],
            "image/png": "[encoded data removed]"
          },
          "metadata": {
            "needs_background": "light"
          }
        }
      ]
    },
    {
      "cell_type": "code",
      "source": [
        "import matplotlib.pyplot as plt\n",
        "\n",
        "#count the frequency of polarity.\n",
        "num_bins=50\n",
        "plt.figure(figsize=(10,6))\n",
        "n, bins, patches=plt.hist(tweet.subjectivity, num_bins, facecolor='green')\n",
        "plt.xlabel('subjectivity')\n",
        "plt.ylabel('count')\n",
        "plt.title('histogram of subjectivity')\n",
        "plt.show()"
      ],
      "metadata": {
        "colab": {
          "base_uri": "https://localhost:8080/",
          "height": 404
        },
        "id": "Y3qgO1Jc0mB5",
        "outputId": "246632af-ffc4-442e-fe8b-a6de1220f1b6"
      },
      "execution_count": 38,
      "outputs": [
        {
          "output_type": "display_data",
          "data": {
            "text/plain": [
              "<Figure size 720x432 with 1 Axes>"
            ],
            "image/png": "[encoded data removed]"
          },
          "metadata": {
            "needs_background": "light"
          }
        }
      ]
    },
    {
      "cell_type": "markdown",
      "source": [
        "1-2. Choose one sentiment analysis algorithm as a benchmark and another one for your main\n",
        "analysis."
      ],
      "metadata": {
        "id": "PLjxbeIn3XCf"
      }
    },
    {
      "cell_type": "markdown",
      "source": [
        "#Main Analysis - Vader"
      ],
      "metadata": {
        "id": "iyql5Usd8IpE"
      }
    },
    {
      "cell_type": "code",
      "source": [
        "!pip install vaderSentiment\n",
        "\n",
        "from vaderSentiment.vaderSentiment import SentimentIntensityAnalyzer"
      ],
      "metadata": {
        "colab": {
          "base_uri": "https://localhost:8080/"
        },
        "id": "Z8jrfrtC0o4I",
        "outputId": "2a81ec47-7f77-4171-ee66-2f3f38f31cfe"
      },
      "execution_count": 16,
      "outputs": [
        {
          "output_type": "stream",
          "name": "stdout",
          "text": [
            "Collecting vaderSentiment\n",
            "  Downloading vaderSentiment-3.3.2-py2.py3-none-any.whl (125 kB)\n",
            "\u001b[K     |████████████████████████████████| 125 kB 3.2 MB/s \n",
            "\u001b[?25hRequirement already satisfied: requests in /usr/local/lib/python3.7/dist-packages (from vaderSentiment) (2.23.0)\n",
            "Requirement already satisfied: chardet<4,>=3.0.2 in /usr/local/lib/python3.7/dist-packages (from requests->vaderSentiment) (3.0.4)\n",
            "Requirement already satisfied: idna<3,>=2.5 in /usr/local/lib/python3.7/dist-packages (from requests->vaderSentiment) (2.10)\n",
            "Requirement already satisfied: urllib3!=1.25.0,!=1.25.1,<1.26,>=1.21.1 in /usr/local/lib/python3.7/dist-packages (from requests->vaderSentiment) (1.24.3)\n",
            "Requirement already satisfied: certifi>=2017.4.17 in /usr/local/lib/python3.7/dist-packages (from requests->vaderSentiment) (2021.10.8)\n",
            "Installing collected packages: vaderSentiment\n",
            "Successfully installed vaderSentiment-3.3.2\n"
          ]
        }
      ]
    },
    {
      "cell_type": "code",
      "source": [
        "analyzer = SentimentIntensityAnalyzer()"
      ],
      "metadata": {
        "id": "ru_lqJ8L0w-1"
      },
      "execution_count": 17,
      "outputs": []
    },
    {
      "cell_type": "code",
      "source": [
        "def vader_score(text):\n",
        "  return analyzer.polarity_scores(text)"
      ],
      "metadata": {
        "id": "q5R6qa_w05GH"
      },
      "execution_count": 18,
      "outputs": []
    },
    {
      "cell_type": "code",
      "source": [
        "tweet['vader_score']=tweet['Clean_text_to_string'].apply(vader_score)\n",
        "print (tweet.iloc[100:120,:])"
      ],
      "metadata": {
        "colab": {
          "base_uri": "https://localhost:8080/"
        },
        "id": "BYI0hPZG07qw",
        "outputId": "a5becfc2-351e-4b13-ef9a-38d5dc73a79d"
      },
      "execution_count": 19,
      "outputs": [
        {
          "output_type": "stream",
          "name": "stdout",
          "text": [
            "     Emotion                                               Text  \\\n",
            "100    anger  When my boyfriend went away for a month long h...   \n",
            "101  sadness  Last year when I worked during the Summer holi...   \n",
            "102  disgust         When a dog is left whining outside a shop.   \n",
            "103    shame  When I promised to help a friend over a weeken...   \n",
            "104    guilt  When I realized that I had three more examinat...   \n",
            "105      joy  The day I was told that I had been accepted as...   \n",
            "106     fear  While taking a short cut through the Vasa park...   \n",
            "107    anger  At a restaurant I observed how the gypsies tri...   \n",
            "108  sadness  At the begining of a new course one is afraid ...   \n",
            "109  disgust  While walking in town I noticed how the police...   \n",
            "110    shame  When my boyfriend revealed that he knew that I...   \n",
            "111    guilt  When I am dishonest to a friend to whom I am v...   \n",
            "112      joy  When I found out that I had passed the last tw...   \n",
            "113     fear  When my father was ill and was waiting for the...   \n",
            "114    anger  When I got caught in the pouring rain last Thu...   \n",
            "115  sadness                             When I failed an exam.   \n",
            "116  disgust  At a Sm÷rgasbord table, a man mixed differnet ...   \n",
            "117    shame  When I had not prepared my contribution to the...   \n",
            "118    guilt  When my father and I worked on the house just ...   \n",
            "119      joy  When I gave birth to my son and saw that he wa...   \n",
            "\n",
            "                                            Clean_text  \\\n",
            "100  [boyfriend, go, away, month, long, holiday, wi...   \n",
            "101  [last, year, work, summer, holiday, study, tim...   \n",
            "102                  [dog, left, whine, outside, shop]   \n",
            "103    [promise, help, friend, weekend, keep, promise]   \n",
            "104                [realize, three, examination, take]   \n",
            "105          [day, told, accepted, student, economics]   \n",
            "106  [take, short, cut, vas, park, surround, three,...   \n",
            "107  [restaurant, observe, gypsy, try, get, money, ...   \n",
            "108  [begining, new, course, one, afraid, encounter...   \n",
            "109  [walk, town, notice, police, harrassed, man, i...   \n",
            "110  [boyfriend, reveal, knew, discover, thing, imp...   \n",
            "111  [dishonest, friend, close, feel, guilty, know,...   \n",
            "112  [found, pass, last, two, exam, margin, three, ...   \n",
            "113                  [father, ill, wait, result, test]   \n",
            "114  [get, caught, pour, rain, last, thursday, rain...   \n",
            "115                                       [fail, exam]   \n",
            "116  [rgasbord, table, man, mixed, differnet, kind,...   \n",
            "117  [prepared, contribution, group, thoroughly, me...   \n",
            "118  [father, work, house, recover, illness, rather...   \n",
            "119  [give, birth, son, saw, alive, manage, well, b...   \n",
            "\n",
            "                                  Clean_text_to_string  polarity  \\\n",
            "100     boyfriend went away month long holiday without -0.050000   \n",
            "101  last year worked summer holidays studied time ...  0.000000   \n",
            "102                      dog left whining outside shop  0.000000   \n",
            "103          promised help friend weekend keep promise  0.000000   \n",
            "104                   realized three examinations take  0.000000   \n",
            "105                day told accepted student economics  0.000000   \n",
            "106  taking short cut vasa park surrounded three pe...  0.000000   \n",
            "107  restaurant observed gypsies tried get money ch... -0.700000   \n",
            "108  begining new course one afraid encountering pr... -0.157576   \n",
            "109  walking town noticed police harrassed man infl...  0.012500   \n",
            "110  boyfriend revealed knew discovered things impo...  0.200000   \n",
            "111  dishonest friend close feel guilty know gives ... -0.210000   \n",
            "112     found passed last two exams margin three marks  0.000000   \n",
            "113                   father ill waiting results tests -0.500000   \n",
            "114     got caught pouring rain last thursday raincoat  0.000000   \n",
            "115                                        failed exam -0.500000   \n",
            "116  rgasbord table man mixed differnet kinds picke...  0.000000   \n",
            "117  prepared contribution group thoroughly members... -0.200000   \n",
            "118  father worked house recovered illness rather l... -0.180556   \n",
            "119  gave birth son saw alive managed well born mon...  0.100000   \n",
            "\n",
            "     subjectivity                                        vader_score  \n",
            "100      0.400000  {'neg': 0.0, 'neu': 0.69, 'pos': 0.31, 'compou...  \n",
            "101      0.066667  {'neg': 0.0, 'neu': 0.694, 'pos': 0.306, 'comp...  \n",
            "102      0.025000  {'neg': 0.322, 'neu': 0.678, 'pos': 0.0, 'comp...  \n",
            "103      0.000000  {'neg': 0.0, 'neu': 0.157, 'pos': 0.843, 'comp...  \n",
            "104      0.000000  {'neg': 0.0, 'neu': 1.0, 'pos': 0.0, 'compound...  \n",
            "105      0.000000  {'neg': 0.0, 'neu': 0.656, 'pos': 0.344, 'comp...  \n",
            "106      0.300000  {'neg': 0.373, 'neu': 0.5, 'pos': 0.127, 'comp...  \n",
            "107      0.200000  {'neg': 0.351, 'neu': 0.542, 'pos': 0.107, 'co...  \n",
            "108      0.453220  {'neg': 0.286, 'neu': 0.714, 'pos': 0.0, 'comp...  \n",
            "109      0.325000  {'neg': 0.306, 'neu': 0.593, 'pos': 0.101, 'co...  \n",
            "110      0.750000  {'neg': 0.223, 'neu': 0.647, 'pos': 0.129, 'co...  \n",
            "111      0.650000  {'neg': 0.455, 'neu': 0.338, 'pos': 0.207, 'co...  \n",
            "112      0.066667  {'neg': 0.0, 'neu': 1.0, 'pos': 0.0, 'compound...  \n",
            "113      1.000000  {'neg': 0.412, 'neu': 0.588, 'pos': 0.0, 'comp...  \n",
            "114      0.066667  {'neg': 0.0, 'neu': 1.0, 'pos': 0.0, 'compound...  \n",
            "115      0.300000  {'neg': 0.767, 'neu': 0.233, 'pos': 0.0, 'comp...  \n",
            "116      0.250000  {'neg': 0.0, 'neu': 1.0, 'pos': 0.0, 'compound...  \n",
            "117      0.300000  {'neg': 0.258, 'neu': 0.583, 'pos': 0.158, 'co...  \n",
            "118      0.513889  {'neg': 0.395, 'neu': 0.479, 'pos': 0.126, 'co...  \n",
            "119      0.350000  {'neg': 0.0, 'neu': 0.734, 'pos': 0.266, 'comp...  \n"
          ]
        }
      ]
    },
    {
      "cell_type": "code",
      "source": [
        "tweet['vader_compound']=tweet['vader_score'].apply(lambda score_dict: score_dict['compound'])\n",
        "tweet['vader_negative']=tweet['vader_score'].apply(lambda score_dict: score_dict['neg'])\n",
        "tweet['vader_neutral']=tweet['vader_score'].apply(lambda score_dict: score_dict['neu'])\n",
        "tweet['vader_positive']=tweet['vader_score'].apply(lambda score_dict: score_dict['pos'])\n",
        "print (tweet.iloc[100:120,:])"
      ],
      "metadata": {
        "colab": {
          "base_uri": "https://localhost:8080/"
        },
        "id": "mwc8km7X0-eA",
        "outputId": "d7653f94-a20a-4c2c-e3e0-59f9d0174e41"
      },
      "execution_count": 20,
      "outputs": [
        {
          "output_type": "stream",
          "name": "stdout",
          "text": [
            "     Emotion                                               Text  \\\n",
            "100    anger  When my boyfriend went away for a month long h...   \n",
            "101  sadness  Last year when I worked during the Summer holi...   \n",
            "102  disgust         When a dog is left whining outside a shop.   \n",
            "103    shame  When I promised to help a friend over a weeken...   \n",
            "104    guilt  When I realized that I had three more examinat...   \n",
            "105      joy  The day I was told that I had been accepted as...   \n",
            "106     fear  While taking a short cut through the Vasa park...   \n",
            "107    anger  At a restaurant I observed how the gypsies tri...   \n",
            "108  sadness  At the begining of a new course one is afraid ...   \n",
            "109  disgust  While walking in town I noticed how the police...   \n",
            "110    shame  When my boyfriend revealed that he knew that I...   \n",
            "111    guilt  When I am dishonest to a friend to whom I am v...   \n",
            "112      joy  When I found out that I had passed the last tw...   \n",
            "113     fear  When my father was ill and was waiting for the...   \n",
            "114    anger  When I got caught in the pouring rain last Thu...   \n",
            "115  sadness                             When I failed an exam.   \n",
            "116  disgust  At a Sm÷rgasbord table, a man mixed differnet ...   \n",
            "117    shame  When I had not prepared my contribution to the...   \n",
            "118    guilt  When my father and I worked on the house just ...   \n",
            "119      joy  When I gave birth to my son and saw that he wa...   \n",
            "\n",
            "                                            Clean_text  \\\n",
            "100  [boyfriend, go, away, month, long, holiday, wi...   \n",
            "101  [last, year, work, summer, holiday, study, tim...   \n",
            "102                  [dog, left, whine, outside, shop]   \n",
            "103    [promise, help, friend, weekend, keep, promise]   \n",
            "104                [realize, three, examination, take]   \n",
            "105          [day, told, accepted, student, economics]   \n",
            "106  [take, short, cut, vas, park, surround, three,...   \n",
            "107  [restaurant, observe, gypsy, try, get, money, ...   \n",
            "108  [begining, new, course, one, afraid, encounter...   \n",
            "109  [walk, town, notice, police, harrassed, man, i...   \n",
            "110  [boyfriend, reveal, knew, discover, thing, imp...   \n",
            "111  [dishonest, friend, close, feel, guilty, know,...   \n",
            "112  [found, pass, last, two, exam, margin, three, ...   \n",
            "113                  [father, ill, wait, result, test]   \n",
            "114  [get, caught, pour, rain, last, thursday, rain...   \n",
            "115                                       [fail, exam]   \n",
            "116  [rgasbord, table, man, mixed, differnet, kind,...   \n",
            "117  [prepared, contribution, group, thoroughly, me...   \n",
            "118  [father, work, house, recover, illness, rather...   \n",
            "119  [give, birth, son, saw, alive, manage, well, b...   \n",
            "\n",
            "                                  Clean_text_to_string  polarity  \\\n",
            "100     boyfriend went away month long holiday without -0.050000   \n",
            "101  last year worked summer holidays studied time ...  0.000000   \n",
            "102                      dog left whining outside shop  0.000000   \n",
            "103          promised help friend weekend keep promise  0.000000   \n",
            "104                   realized three examinations take  0.000000   \n",
            "105                day told accepted student economics  0.000000   \n",
            "106  taking short cut vasa park surrounded three pe...  0.000000   \n",
            "107  restaurant observed gypsies tried get money ch... -0.700000   \n",
            "108  begining new course one afraid encountering pr... -0.157576   \n",
            "109  walking town noticed police harrassed man infl...  0.012500   \n",
            "110  boyfriend revealed knew discovered things impo...  0.200000   \n",
            "111  dishonest friend close feel guilty know gives ... -0.210000   \n",
            "112     found passed last two exams margin three marks  0.000000   \n",
            "113                   father ill waiting results tests -0.500000   \n",
            "114     got caught pouring rain last thursday raincoat  0.000000   \n",
            "115                                        failed exam -0.500000   \n",
            "116  rgasbord table man mixed differnet kinds picke...  0.000000   \n",
            "117  prepared contribution group thoroughly members... -0.200000   \n",
            "118  father worked house recovered illness rather l... -0.180556   \n",
            "119  gave birth son saw alive managed well born mon...  0.100000   \n",
            "\n",
            "     subjectivity                                        vader_score  \\\n",
            "100      0.400000  {'neg': 0.0, 'neu': 0.69, 'pos': 0.31, 'compou...   \n",
            "101      0.066667  {'neg': 0.0, 'neu': 0.694, 'pos': 0.306, 'comp...   \n",
            "102      0.025000  {'neg': 0.322, 'neu': 0.678, 'pos': 0.0, 'comp...   \n",
            "103      0.000000  {'neg': 0.0, 'neu': 0.157, 'pos': 0.843, 'comp...   \n",
            "104      0.000000  {'neg': 0.0, 'neu': 1.0, 'pos': 0.0, 'compound...   \n",
            "105      0.000000  {'neg': 0.0, 'neu': 0.656, 'pos': 0.344, 'comp...   \n",
            "106      0.300000  {'neg': 0.373, 'neu': 0.5, 'pos': 0.127, 'comp...   \n",
            "107      0.200000  {'neg': 0.351, 'neu': 0.542, 'pos': 0.107, 'co...   \n",
            "108      0.453220  {'neg': 0.286, 'neu': 0.714, 'pos': 0.0, 'comp...   \n",
            "109      0.325000  {'neg': 0.306, 'neu': 0.593, 'pos': 0.101, 'co...   \n",
            "110      0.750000  {'neg': 0.223, 'neu': 0.647, 'pos': 0.129, 'co...   \n",
            "111      0.650000  {'neg': 0.455, 'neu': 0.338, 'pos': 0.207, 'co...   \n",
            "112      0.066667  {'neg': 0.0, 'neu': 1.0, 'pos': 0.0, 'compound...   \n",
            "113      1.000000  {'neg': 0.412, 'neu': 0.588, 'pos': 0.0, 'comp...   \n",
            "114      0.066667  {'neg': 0.0, 'neu': 1.0, 'pos': 0.0, 'compound...   \n",
            "115      0.300000  {'neg': 0.767, 'neu': 0.233, 'pos': 0.0, 'comp...   \n",
            "116      0.250000  {'neg': 0.0, 'neu': 1.0, 'pos': 0.0, 'compound...   \n",
            "117      0.300000  {'neg': 0.258, 'neu': 0.583, 'pos': 0.158, 'co...   \n",
            "118      0.513889  {'neg': 0.395, 'neu': 0.479, 'pos': 0.126, 'co...   \n",
            "119      0.350000  {'neg': 0.0, 'neu': 0.734, 'pos': 0.266, 'comp...   \n",
            "\n",
            "     vader_compound  vader_negative  vader_neutral  vader_positive  \n",
            "100          0.4019           0.000          0.690           0.310  \n",
            "101          0.6486           0.000          0.694           0.306  \n",
            "102         -0.2263           0.322          0.678           0.000  \n",
            "103          0.8658           0.000          0.157           0.843  \n",
            "104          0.0000           0.000          1.000           0.000  \n",
            "105          0.2732           0.000          0.656           0.344  \n",
            "106         -0.6597           0.373          0.500           0.127  \n",
            "107         -0.8240           0.351          0.542           0.107  \n",
            "108         -0.7184           0.286          0.714           0.000  \n",
            "109         -0.7845           0.306          0.593           0.101  \n",
            "110         -0.3182           0.223          0.647           0.129  \n",
            "111         -0.7650           0.455          0.338           0.207  \n",
            "112          0.0000           0.000          1.000           0.000  \n",
            "113         -0.4215           0.412          0.588           0.000  \n",
            "114          0.0000           0.000          1.000           0.000  \n",
            "115         -0.5106           0.767          0.233           0.000  \n",
            "116          0.0000           0.000          1.000           0.000  \n",
            "117         -0.2960           0.258          0.583           0.158  \n",
            "118         -0.5423           0.395          0.479           0.126  \n",
            "119          0.5719           0.000          0.734           0.266  \n"
          ]
        }
      ]
    },
    {
      "cell_type": "code",
      "source": [
        "import matplotlib.pyplot as plt\n",
        "\n",
        "#count the frequency of vader outputs.\n",
        "num_bins=50\n",
        "plt.figure(figsize=(10,6))\n",
        "n, bins, patches=plt.hist(tweet.vader_compound    , num_bins, facecolor='green')\n",
        "#plt.xlabel('polarity')\n",
        "plt.ylabel('count')\n",
        "plt.title('histogram of vader_compound')\n",
        "plt.show()"
      ],
      "metadata": {
        "colab": {
          "base_uri": "https://localhost:8080/",
          "height": 390
        },
        "id": "RQITtG-P1BbE",
        "outputId": "2468aaba-52e0-42e5-c599-d31a64a14e07"
      },
      "execution_count": 21,
      "outputs": [
        {
          "output_type": "display_data",
          "data": {
            "text/plain": [
              "<Figure size 720x432 with 1 Axes>"
            ],
            "image/png": "[encoded data removed]"
          },
          "metadata": {
            "needs_background": "light"
          }
        }
      ]
    },
    {
      "cell_type": "code",
      "source": [
        "print (\"Shape:\", tweet.shape)\n",
        "\n",
        "#Column names?\n",
        "print (\"Column Names\",tweet.columns.values)\n",
        "\n",
        "#movie.head()\n",
        "print (tweet.iloc[100:120,:])"
      ],
      "metadata": {
        "colab": {
          "base_uri": "https://localhost:8080/"
        },
        "id": "tHfMSjol1Edh",
        "outputId": "ddf6d336-83df-4d27-829f-c2649f0c8383"
      },
      "execution_count": 22,
      "outputs": [
        {
          "output_type": "stream",
          "name": "stdout",
          "text": [
            "Shape: (7652, 11)\n",
            "Column Names ['Emotion' 'Text' 'Clean_text' 'Clean_text_to_string' 'polarity'\n",
            " 'subjectivity' 'vader_score' 'vader_compound' 'vader_negative'\n",
            " 'vader_neutral' 'vader_positive']\n",
            "     Emotion                                               Text  \\\n",
            "100    anger  When my boyfriend went away for a month long h...   \n",
            "101  sadness  Last year when I worked during the Summer holi...   \n",
            "102  disgust         When a dog is left whining outside a shop.   \n",
            "103    shame  When I promised to help a friend over a weeken...   \n",
            "104    guilt  When I realized that I had three more examinat...   \n",
            "105      joy  The day I was told that I had been accepted as...   \n",
            "106     fear  While taking a short cut through the Vasa park...   \n",
            "107    anger  At a restaurant I observed how the gypsies tri...   \n",
            "108  sadness  At the begining of a new course one is afraid ...   \n",
            "109  disgust  While walking in town I noticed how the police...   \n",
            "110    shame  When my boyfriend revealed that he knew that I...   \n",
            "111    guilt  When I am dishonest to a friend to whom I am v...   \n",
            "112      joy  When I found out that I had passed the last tw...   \n",
            "113     fear  When my father was ill and was waiting for the...   \n",
            "114    anger  When I got caught in the pouring rain last Thu...   \n",
            "115  sadness                             When I failed an exam.   \n",
            "116  disgust  At a Sm÷rgasbord table, a man mixed differnet ...   \n",
            "117    shame  When I had not prepared my contribution to the...   \n",
            "118    guilt  When my father and I worked on the house just ...   \n",
            "119      joy  When I gave birth to my son and saw that he wa...   \n",
            "\n",
            "                                            Clean_text  \\\n",
            "100  [boyfriend, go, away, month, long, holiday, wi...   \n",
            "101  [last, year, work, summer, holiday, study, tim...   \n",
            "102                  [dog, left, whine, outside, shop]   \n",
            "103    [promise, help, friend, weekend, keep, promise]   \n",
            "104                [realize, three, examination, take]   \n",
            "105          [day, told, accepted, student, economics]   \n",
            "106  [take, short, cut, vas, park, surround, three,...   \n",
            "107  [restaurant, observe, gypsy, try, get, money, ...   \n",
            "108  [begining, new, course, one, afraid, encounter...   \n",
            "109  [walk, town, notice, police, harrassed, man, i...   \n",
            "110  [boyfriend, reveal, knew, discover, thing, imp...   \n",
            "111  [dishonest, friend, close, feel, guilty, know,...   \n",
            "112  [found, pass, last, two, exam, margin, three, ...   \n",
            "113                  [father, ill, wait, result, test]   \n",
            "114  [get, caught, pour, rain, last, thursday, rain...   \n",
            "115                                       [fail, exam]   \n",
            "116  [rgasbord, table, man, mixed, differnet, kind,...   \n",
            "117  [prepared, contribution, group, thoroughly, me...   \n",
            "118  [father, work, house, recover, illness, rather...   \n",
            "119  [give, birth, son, saw, alive, manage, well, b...   \n",
            "\n",
            "                                  Clean_text_to_string  polarity  \\\n",
            "100     boyfriend went away month long holiday without -0.050000   \n",
            "101  last year worked summer holidays studied time ...  0.000000   \n",
            "102                      dog left whining outside shop  0.000000   \n",
            "103          promised help friend weekend keep promise  0.000000   \n",
            "104                   realized three examinations take  0.000000   \n",
            "105                day told accepted student economics  0.000000   \n",
            "106  taking short cut vasa park surrounded three pe...  0.000000   \n",
            "107  restaurant observed gypsies tried get money ch... -0.700000   \n",
            "108  begining new course one afraid encountering pr... -0.157576   \n",
            "109  walking town noticed police harrassed man infl...  0.012500   \n",
            "110  boyfriend revealed knew discovered things impo...  0.200000   \n",
            "111  dishonest friend close feel guilty know gives ... -0.210000   \n",
            "112     found passed last two exams margin three marks  0.000000   \n",
            "113                   father ill waiting results tests -0.500000   \n",
            "114     got caught pouring rain last thursday raincoat  0.000000   \n",
            "115                                        failed exam -0.500000   \n",
            "116  rgasbord table man mixed differnet kinds picke...  0.000000   \n",
            "117  prepared contribution group thoroughly members... -0.200000   \n",
            "118  father worked house recovered illness rather l... -0.180556   \n",
            "119  gave birth son saw alive managed well born mon...  0.100000   \n",
            "\n",
            "     subjectivity                                        vader_score  \\\n",
            "100      0.400000  {'neg': 0.0, 'neu': 0.69, 'pos': 0.31, 'compou...   \n",
            "101      0.066667  {'neg': 0.0, 'neu': 0.694, 'pos': 0.306, 'comp...   \n",
            "102      0.025000  {'neg': 0.322, 'neu': 0.678, 'pos': 0.0, 'comp...   \n",
            "103      0.000000  {'neg': 0.0, 'neu': 0.157, 'pos': 0.843, 'comp...   \n",
            "104      0.000000  {'neg': 0.0, 'neu': 1.0, 'pos': 0.0, 'compound...   \n",
            "105      0.000000  {'neg': 0.0, 'neu': 0.656, 'pos': 0.344, 'comp...   \n",
            "106      0.300000  {'neg': 0.373, 'neu': 0.5, 'pos': 0.127, 'comp...   \n",
            "107      0.200000  {'neg': 0.351, 'neu': 0.542, 'pos': 0.107, 'co...   \n",
            "108      0.453220  {'neg': 0.286, 'neu': 0.714, 'pos': 0.0, 'comp...   \n",
            "109      0.325000  {'neg': 0.306, 'neu': 0.593, 'pos': 0.101, 'co...   \n",
            "110      0.750000  {'neg': 0.223, 'neu': 0.647, 'pos': 0.129, 'co...   \n",
            "111      0.650000  {'neg': 0.455, 'neu': 0.338, 'pos': 0.207, 'co...   \n",
            "112      0.066667  {'neg': 0.0, 'neu': 1.0, 'pos': 0.0, 'compound...   \n",
            "113      1.000000  {'neg': 0.412, 'neu': 0.588, 'pos': 0.0, 'comp...   \n",
            "114      0.066667  {'neg': 0.0, 'neu': 1.0, 'pos': 0.0, 'compound...   \n",
            "115      0.300000  {'neg': 0.767, 'neu': 0.233, 'pos': 0.0, 'comp...   \n",
            "116      0.250000  {'neg': 0.0, 'neu': 1.0, 'pos': 0.0, 'compound...   \n",
            "117      0.300000  {'neg': 0.258, 'neu': 0.583, 'pos': 0.158, 'co...   \n",
            "118      0.513889  {'neg': 0.395, 'neu': 0.479, 'pos': 0.126, 'co...   \n",
            "119      0.350000  {'neg': 0.0, 'neu': 0.734, 'pos': 0.266, 'comp...   \n",
            "\n",
            "     vader_compound  vader_negative  vader_neutral  vader_positive  \n",
            "100          0.4019           0.000          0.690           0.310  \n",
            "101          0.6486           0.000          0.694           0.306  \n",
            "102         -0.2263           0.322          0.678           0.000  \n",
            "103          0.8658           0.000          0.157           0.843  \n",
            "104          0.0000           0.000          1.000           0.000  \n",
            "105          0.2732           0.000          0.656           0.344  \n",
            "106         -0.6597           0.373          0.500           0.127  \n",
            "107         -0.8240           0.351          0.542           0.107  \n",
            "108         -0.7184           0.286          0.714           0.000  \n",
            "109         -0.7845           0.306          0.593           0.101  \n",
            "110         -0.3182           0.223          0.647           0.129  \n",
            "111         -0.7650           0.455          0.338           0.207  \n",
            "112          0.0000           0.000          1.000           0.000  \n",
            "113         -0.4215           0.412          0.588           0.000  \n",
            "114          0.0000           0.000          1.000           0.000  \n",
            "115         -0.5106           0.767          0.233           0.000  \n",
            "116          0.0000           0.000          1.000           0.000  \n",
            "117         -0.2960           0.258          0.583           0.158  \n",
            "118         -0.5423           0.395          0.479           0.126  \n",
            "119          0.5719           0.000          0.734           0.266  \n"
          ]
        }
      ]
    },
    {
      "cell_type": "code",
      "source": [
        "tweet['vader_score_no_pre_processing']=tweet['Text'].apply(vader_score)\n",
        "print (tweet.iloc[100:120,:])\n",
        "\n",
        "tweet['vader_compound_no_pp']=tweet['vader_score_no_pre_processing'].apply(lambda score_dict: score_dict['compound'])\n",
        "tweet['vader_negative_no_pp']=tweet['vader_score_no_pre_processing'].apply(lambda score_dict: score_dict['neg'])\n",
        "tweet['vader_neutral_no_pp']=tweet['vader_score_no_pre_processing'].apply(lambda score_dict: score_dict['neu'])\n",
        "tweet['vader_positive_no_pp']=tweet['vader_score_no_pre_processing'].apply(lambda score_dict: score_dict['pos'])\n",
        "print (tweet.iloc[100:120,:])"
      ],
      "metadata": {
        "colab": {
          "base_uri": "https://localhost:8080/"
        },
        "id": "VDSMkQIS1ZFb",
        "outputId": "09311fa4-2424-4ecf-95b4-c72298472efd"
      },
      "execution_count": 23,
      "outputs": [
        {
          "output_type": "stream",
          "name": "stdout",
          "text": [
            "     Emotion                                               Text  \\\n",
            "100    anger  When my boyfriend went away for a month long h...   \n",
            "101  sadness  Last year when I worked during the Summer holi...   \n",
            "102  disgust         When a dog is left whining outside a shop.   \n",
            "103    shame  When I promised to help a friend over a weeken...   \n",
            "104    guilt  When I realized that I had three more examinat...   \n",
            "105      joy  The day I was told that I had been accepted as...   \n",
            "106     fear  While taking a short cut through the Vasa park...   \n",
            "107    anger  At a restaurant I observed how the gypsies tri...   \n",
            "108  sadness  At the begining of a new course one is afraid ...   \n",
            "109  disgust  While walking in town I noticed how the police...   \n",
            "110    shame  When my boyfriend revealed that he knew that I...   \n",
            "111    guilt  When I am dishonest to a friend to whom I am v...   \n",
            "112      joy  When I found out that I had passed the last tw...   \n",
            "113     fear  When my father was ill and was waiting for the...   \n",
            "114    anger  When I got caught in the pouring rain last Thu...   \n",
            "115  sadness                             When I failed an exam.   \n",
            "116  disgust  At a Sm÷rgasbord table, a man mixed differnet ...   \n",
            "117    shame  When I had not prepared my contribution to the...   \n",
            "118    guilt  When my father and I worked on the house just ...   \n",
            "119      joy  When I gave birth to my son and saw that he wa...   \n",
            "\n",
            "                                            Clean_text  \\\n",
            "100  [boyfriend, go, away, month, long, holiday, wi...   \n",
            "101  [last, year, work, summer, holiday, study, tim...   \n",
            "102                  [dog, left, whine, outside, shop]   \n",
            "103    [promise, help, friend, weekend, keep, promise]   \n",
            "104                [realize, three, examination, take]   \n",
            "105          [day, told, accepted, student, economics]   \n",
            "106  [take, short, cut, vas, park, surround, three,...   \n",
            "107  [restaurant, observe, gypsy, try, get, money, ...   \n",
            "108  [begining, new, course, one, afraid, encounter...   \n",
            "109  [walk, town, notice, police, harrassed, man, i...   \n",
            "110  [boyfriend, reveal, knew, discover, thing, imp...   \n",
            "111  [dishonest, friend, close, feel, guilty, know,...   \n",
            "112  [found, pass, last, two, exam, margin, three, ...   \n",
            "113                  [father, ill, wait, result, test]   \n",
            "114  [get, caught, pour, rain, last, thursday, rain...   \n",
            "115                                       [fail, exam]   \n",
            "116  [rgasbord, table, man, mixed, differnet, kind,...   \n",
            "117  [prepared, contribution, group, thoroughly, me...   \n",
            "118  [father, work, house, recover, illness, rather...   \n",
            "119  [give, birth, son, saw, alive, manage, well, b...   \n",
            "\n",
            "                                  Clean_text_to_string  polarity  \\\n",
            "100     boyfriend went away month long holiday without -0.050000   \n",
            "101  last year worked summer holidays studied time ...  0.000000   \n",
            "102                      dog left whining outside shop  0.000000   \n",
            "103          promised help friend weekend keep promise  0.000000   \n",
            "104                   realized three examinations take  0.000000   \n",
            "105                day told accepted student economics  0.000000   \n",
            "106  taking short cut vasa park surrounded three pe...  0.000000   \n",
            "107  restaurant observed gypsies tried get money ch... -0.700000   \n",
            "108  begining new course one afraid encountering pr... -0.157576   \n",
            "109  walking town noticed police harrassed man infl...  0.012500   \n",
            "110  boyfriend revealed knew discovered things impo...  0.200000   \n",
            "111  dishonest friend close feel guilty know gives ... -0.210000   \n",
            "112     found passed last two exams margin three marks  0.000000   \n",
            "113                   father ill waiting results tests -0.500000   \n",
            "114     got caught pouring rain last thursday raincoat  0.000000   \n",
            "115                                        failed exam -0.500000   \n",
            "116  rgasbord table man mixed differnet kinds picke...  0.000000   \n",
            "117  prepared contribution group thoroughly members... -0.200000   \n",
            "118  father worked house recovered illness rather l... -0.180556   \n",
            "119  gave birth son saw alive managed well born mon...  0.100000   \n",
            "\n",
            "     subjectivity                                        vader_score  \\\n",
            "100      0.400000  {'neg': 0.0, 'neu': 0.69, 'pos': 0.31, 'compou...   \n",
            "101      0.066667  {'neg': 0.0, 'neu': 0.694, 'pos': 0.306, 'comp...   \n",
            "102      0.025000  {'neg': 0.322, 'neu': 0.678, 'pos': 0.0, 'comp...   \n",
            "103      0.000000  {'neg': 0.0, 'neu': 0.157, 'pos': 0.843, 'comp...   \n",
            "104      0.000000  {'neg': 0.0, 'neu': 1.0, 'pos': 0.0, 'compound...   \n",
            "105      0.000000  {'neg': 0.0, 'neu': 0.656, 'pos': 0.344, 'comp...   \n",
            "106      0.300000  {'neg': 0.373, 'neu': 0.5, 'pos': 0.127, 'comp...   \n",
            "107      0.200000  {'neg': 0.351, 'neu': 0.542, 'pos': 0.107, 'co...   \n",
            "108      0.453220  {'neg': 0.286, 'neu': 0.714, 'pos': 0.0, 'comp...   \n",
            "109      0.325000  {'neg': 0.306, 'neu': 0.593, 'pos': 0.101, 'co...   \n",
            "110      0.750000  {'neg': 0.223, 'neu': 0.647, 'pos': 0.129, 'co...   \n",
            "111      0.650000  {'neg': 0.455, 'neu': 0.338, 'pos': 0.207, 'co...   \n",
            "112      0.066667  {'neg': 0.0, 'neu': 1.0, 'pos': 0.0, 'compound...   \n",
            "113      1.000000  {'neg': 0.412, 'neu': 0.588, 'pos': 0.0, 'comp...   \n",
            "114      0.066667  {'neg': 0.0, 'neu': 1.0, 'pos': 0.0, 'compound...   \n",
            "115      0.300000  {'neg': 0.767, 'neu': 0.233, 'pos': 0.0, 'comp...   \n",
            "116      0.250000  {'neg': 0.0, 'neu': 1.0, 'pos': 0.0, 'compound...   \n",
            "117      0.300000  {'neg': 0.258, 'neu': 0.583, 'pos': 0.158, 'co...   \n",
            "118      0.513889  {'neg': 0.395, 'neu': 0.479, 'pos': 0.126, 'co...   \n",
            "119      0.350000  {'neg': 0.0, 'neu': 0.734, 'pos': 0.266, 'comp...   \n",
            "\n",
            "     vader_compound  vader_negative  vader_neutral  vader_positive  \\\n",
            "100          0.4019           0.000          0.690           0.310   \n",
            "101          0.6486           0.000          0.694           0.306   \n",
            "102         -0.2263           0.322          0.678           0.000   \n",
            "103          0.8658           0.000          0.157           0.843   \n",
            "104          0.0000           0.000          1.000           0.000   \n",
            "105          0.2732           0.000          0.656           0.344   \n",
            "106         -0.6597           0.373          0.500           0.127   \n",
            "107         -0.8240           0.351          0.542           0.107   \n",
            "108         -0.7184           0.286          0.714           0.000   \n",
            "109         -0.7845           0.306          0.593           0.101   \n",
            "110         -0.3182           0.223          0.647           0.129   \n",
            "111         -0.7650           0.455          0.338           0.207   \n",
            "112          0.0000           0.000          1.000           0.000   \n",
            "113         -0.4215           0.412          0.588           0.000   \n",
            "114          0.0000           0.000          1.000           0.000   \n",
            "115         -0.5106           0.767          0.233           0.000   \n",
            "116          0.0000           0.000          1.000           0.000   \n",
            "117         -0.2960           0.258          0.583           0.158   \n",
            "118         -0.5423           0.395          0.479           0.126   \n",
            "119          0.5719           0.000          0.734           0.266   \n",
            "\n",
            "                         vader_score_no_pre_processing  \n",
            "100  {'neg': 0.0, 'neu': 0.803, 'pos': 0.197, 'comp...  \n",
            "101  {'neg': 0.0, 'neu': 0.854, 'pos': 0.146, 'comp...  \n",
            "102  {'neg': 0.192, 'neu': 0.808, 'pos': 0.0, 'comp...  \n",
            "103  {'neg': 0.088, 'neu': 0.537, 'pos': 0.376, 'co...  \n",
            "104  {'neg': 0.0, 'neu': 1.0, 'pos': 0.0, 'compound...  \n",
            "105  {'neg': 0.0, 'neu': 0.87, 'pos': 0.13, 'compou...  \n",
            "106  {'neg': 0.2, 'neu': 0.732, 'pos': 0.068, 'comp...  \n",
            "107  {'neg': 0.222, 'neu': 0.778, 'pos': 0.0, 'comp...  \n",
            "108  {'neg': 0.167, 'neu': 0.833, 'pos': 0.0, 'comp...  \n",
            "109  {'neg': 0.157, 'neu': 0.791, 'pos': 0.052, 'co...  \n",
            "110  {'neg': 0.1, 'neu': 0.841, 'pos': 0.058, 'comp...  \n",
            "111  {'neg': 0.168, 'neu': 0.699, 'pos': 0.133, 'co...  \n",
            "112  {'neg': 0.0, 'neu': 1.0, 'pos': 0.0, 'compound...  \n",
            "113  {'neg': 0.177, 'neu': 0.823, 'pos': 0.0, 'comp...  \n",
            "114  {'neg': 0.0, 'neu': 1.0, 'pos': 0.0, 'compound...  \n",
            "115  {'neg': 0.452, 'neu': 0.548, 'pos': 0.0, 'comp...  \n",
            "116  {'neg': 0.0, 'neu': 1.0, 'pos': 0.0, 'compound...  \n",
            "117  {'neg': 0.172, 'neu': 0.828, 'pos': 0.0, 'comp...  \n",
            "118  {'neg': 0.223, 'neu': 0.777, 'pos': 0.0, 'comp...  \n",
            "119  {'neg': 0.0, 'neu': 0.879, 'pos': 0.121, 'comp...  \n",
            "     Emotion                                               Text  \\\n",
            "100    anger  When my boyfriend went away for a month long h...   \n",
            "101  sadness  Last year when I worked during the Summer holi...   \n",
            "102  disgust         When a dog is left whining outside a shop.   \n",
            "103    shame  When I promised to help a friend over a weeken...   \n",
            "104    guilt  When I realized that I had three more examinat...   \n",
            "105      joy  The day I was told that I had been accepted as...   \n",
            "106     fear  While taking a short cut through the Vasa park...   \n",
            "107    anger  At a restaurant I observed how the gypsies tri...   \n",
            "108  sadness  At the begining of a new course one is afraid ...   \n",
            "109  disgust  While walking in town I noticed how the police...   \n",
            "110    shame  When my boyfriend revealed that he knew that I...   \n",
            "111    guilt  When I am dishonest to a friend to whom I am v...   \n",
            "112      joy  When I found out that I had passed the last tw...   \n",
            "113     fear  When my father was ill and was waiting for the...   \n",
            "114    anger  When I got caught in the pouring rain last Thu...   \n",
            "115  sadness                             When I failed an exam.   \n",
            "116  disgust  At a Sm÷rgasbord table, a man mixed differnet ...   \n",
            "117    shame  When I had not prepared my contribution to the...   \n",
            "118    guilt  When my father and I worked on the house just ...   \n",
            "119      joy  When I gave birth to my son and saw that he wa...   \n",
            "\n",
            "                                            Clean_text  \\\n",
            "100  [boyfriend, go, away, month, long, holiday, wi...   \n",
            "101  [last, year, work, summer, holiday, study, tim...   \n",
            "102                  [dog, left, whine, outside, shop]   \n",
            "103    [promise, help, friend, weekend, keep, promise]   \n",
            "104                [realize, three, examination, take]   \n",
            "105          [day, told, accepted, student, economics]   \n",
            "106  [take, short, cut, vas, park, surround, three,...   \n",
            "107  [restaurant, observe, gypsy, try, get, money, ...   \n",
            "108  [begining, new, course, one, afraid, encounter...   \n",
            "109  [walk, town, notice, police, harrassed, man, i...   \n",
            "110  [boyfriend, reveal, knew, discover, thing, imp...   \n",
            "111  [dishonest, friend, close, feel, guilty, know,...   \n",
            "112  [found, pass, last, two, exam, margin, three, ...   \n",
            "113                  [father, ill, wait, result, test]   \n",
            "114  [get, caught, pour, rain, last, thursday, rain...   \n",
            "115                                       [fail, exam]   \n",
            "116  [rgasbord, table, man, mixed, differnet, kind,...   \n",
            "117  [prepared, contribution, group, thoroughly, me...   \n",
            "118  [father, work, house, recover, illness, rather...   \n",
            "119  [give, birth, son, saw, alive, manage, well, b...   \n",
            "\n",
            "                                  Clean_text_to_string  polarity  \\\n",
            "100     boyfriend went away month long holiday without -0.050000   \n",
            "101  last year worked summer holidays studied time ...  0.000000   \n",
            "102                      dog left whining outside shop  0.000000   \n",
            "103          promised help friend weekend keep promise  0.000000   \n",
            "104                   realized three examinations take  0.000000   \n",
            "105                day told accepted student economics  0.000000   \n",
            "106  taking short cut vasa park surrounded three pe...  0.000000   \n",
            "107  restaurant observed gypsies tried get money ch... -0.700000   \n",
            "108  begining new course one afraid encountering pr... -0.157576   \n",
            "109  walking town noticed police harrassed man infl...  0.012500   \n",
            "110  boyfriend revealed knew discovered things impo...  0.200000   \n",
            "111  dishonest friend close feel guilty know gives ... -0.210000   \n",
            "112     found passed last two exams margin three marks  0.000000   \n",
            "113                   father ill waiting results tests -0.500000   \n",
            "114     got caught pouring rain last thursday raincoat  0.000000   \n",
            "115                                        failed exam -0.500000   \n",
            "116  rgasbord table man mixed differnet kinds picke...  0.000000   \n",
            "117  prepared contribution group thoroughly members... -0.200000   \n",
            "118  father worked house recovered illness rather l... -0.180556   \n",
            "119  gave birth son saw alive managed well born mon...  0.100000   \n",
            "\n",
            "     subjectivity                                        vader_score  \\\n",
            "100      0.400000  {'neg': 0.0, 'neu': 0.69, 'pos': 0.31, 'compou...   \n",
            "101      0.066667  {'neg': 0.0, 'neu': 0.694, 'pos': 0.306, 'comp...   \n",
            "102      0.025000  {'neg': 0.322, 'neu': 0.678, 'pos': 0.0, 'comp...   \n",
            "103      0.000000  {'neg': 0.0, 'neu': 0.157, 'pos': 0.843, 'comp...   \n",
            "104      0.000000  {'neg': 0.0, 'neu': 1.0, 'pos': 0.0, 'compound...   \n",
            "105      0.000000  {'neg': 0.0, 'neu': 0.656, 'pos': 0.344, 'comp...   \n",
            "106      0.300000  {'neg': 0.373, 'neu': 0.5, 'pos': 0.127, 'comp...   \n",
            "107      0.200000  {'neg': 0.351, 'neu': 0.542, 'pos': 0.107, 'co...   \n",
            "108      0.453220  {'neg': 0.286, 'neu': 0.714, 'pos': 0.0, 'comp...   \n",
            "109      0.325000  {'neg': 0.306, 'neu': 0.593, 'pos': 0.101, 'co...   \n",
            "110      0.750000  {'neg': 0.223, 'neu': 0.647, 'pos': 0.129, 'co...   \n",
            "111      0.650000  {'neg': 0.455, 'neu': 0.338, 'pos': 0.207, 'co...   \n",
            "112      0.066667  {'neg': 0.0, 'neu': 1.0, 'pos': 0.0, 'compound...   \n",
            "113      1.000000  {'neg': 0.412, 'neu': 0.588, 'pos': 0.0, 'comp...   \n",
            "114      0.066667  {'neg': 0.0, 'neu': 1.0, 'pos': 0.0, 'compound...   \n",
            "115      0.300000  {'neg': 0.767, 'neu': 0.233, 'pos': 0.0, 'comp...   \n",
            "116      0.250000  {'neg': 0.0, 'neu': 1.0, 'pos': 0.0, 'compound...   \n",
            "117      0.300000  {'neg': 0.258, 'neu': 0.583, 'pos': 0.158, 'co...   \n",
            "118      0.513889  {'neg': 0.395, 'neu': 0.479, 'pos': 0.126, 'co...   \n",
            "119      0.350000  {'neg': 0.0, 'neu': 0.734, 'pos': 0.266, 'comp...   \n",
            "\n",
            "     vader_compound  vader_negative  vader_neutral  vader_positive  \\\n",
            "100          0.4019           0.000          0.690           0.310   \n",
            "101          0.6486           0.000          0.694           0.306   \n",
            "102         -0.2263           0.322          0.678           0.000   \n",
            "103          0.8658           0.000          0.157           0.843   \n",
            "104          0.0000           0.000          1.000           0.000   \n",
            "105          0.2732           0.000          0.656           0.344   \n",
            "106         -0.6597           0.373          0.500           0.127   \n",
            "107         -0.8240           0.351          0.542           0.107   \n",
            "108         -0.7184           0.286          0.714           0.000   \n",
            "109         -0.7845           0.306          0.593           0.101   \n",
            "110         -0.3182           0.223          0.647           0.129   \n",
            "111         -0.7650           0.455          0.338           0.207   \n",
            "112          0.0000           0.000          1.000           0.000   \n",
            "113         -0.4215           0.412          0.588           0.000   \n",
            "114          0.0000           0.000          1.000           0.000   \n",
            "115         -0.5106           0.767          0.233           0.000   \n",
            "116          0.0000           0.000          1.000           0.000   \n",
            "117         -0.2960           0.258          0.583           0.158   \n",
            "118         -0.5423           0.395          0.479           0.126   \n",
            "119          0.5719           0.000          0.734           0.266   \n",
            "\n",
            "                         vader_score_no_pre_processing  vader_compound_no_pp  \\\n",
            "100  {'neg': 0.0, 'neu': 0.803, 'pos': 0.197, 'comp...                0.4019   \n",
            "101  {'neg': 0.0, 'neu': 0.854, 'pos': 0.146, 'comp...                0.6486   \n",
            "102  {'neg': 0.192, 'neu': 0.808, 'pos': 0.0, 'comp...               -0.2263   \n",
            "103  {'neg': 0.088, 'neu': 0.537, 'pos': 0.376, 'co...                0.7534   \n",
            "104  {'neg': 0.0, 'neu': 1.0, 'pos': 0.0, 'compound...                0.0000   \n",
            "105  {'neg': 0.0, 'neu': 0.87, 'pos': 0.13, 'compou...                0.2732   \n",
            "106  {'neg': 0.2, 'neu': 0.732, 'pos': 0.068, 'comp...               -0.6597   \n",
            "107  {'neg': 0.222, 'neu': 0.778, 'pos': 0.0, 'comp...               -0.9062   \n",
            "108  {'neg': 0.167, 'neu': 0.833, 'pos': 0.0, 'comp...               -0.7184   \n",
            "109  {'neg': 0.157, 'neu': 0.791, 'pos': 0.052, 'co...               -0.7845   \n",
            "110  {'neg': 0.1, 'neu': 0.841, 'pos': 0.058, 'comp...               -0.3182   \n",
            "111  {'neg': 0.168, 'neu': 0.699, 'pos': 0.133, 'co...               -0.4570   \n",
            "112  {'neg': 0.0, 'neu': 1.0, 'pos': 0.0, 'compound...                0.0000   \n",
            "113  {'neg': 0.177, 'neu': 0.823, 'pos': 0.0, 'comp...               -0.4215   \n",
            "114  {'neg': 0.0, 'neu': 1.0, 'pos': 0.0, 'compound...                0.0000   \n",
            "115  {'neg': 0.452, 'neu': 0.548, 'pos': 0.0, 'comp...               -0.5106   \n",
            "116  {'neg': 0.0, 'neu': 1.0, 'pos': 0.0, 'compound...                0.0000   \n",
            "117  {'neg': 0.172, 'neu': 0.828, 'pos': 0.0, 'comp...               -0.5812   \n",
            "118  {'neg': 0.223, 'neu': 0.777, 'pos': 0.0, 'comp...               -0.7671   \n",
            "119  {'neg': 0.0, 'neu': 0.879, 'pos': 0.121, 'comp...                0.5719   \n",
            "\n",
            "     vader_negative_no_pp  vader_neutral_no_pp  vader_positive_no_pp  \n",
            "100                 0.000                0.803                 0.197  \n",
            "101                 0.000                0.854                 0.146  \n",
            "102                 0.192                0.808                 0.000  \n",
            "103                 0.088                0.537                 0.376  \n",
            "104                 0.000                1.000                 0.000  \n",
            "105                 0.000                0.870                 0.130  \n",
            "106                 0.200                0.732                 0.068  \n",
            "107                 0.222                0.778                 0.000  \n",
            "108                 0.167                0.833                 0.000  \n",
            "109                 0.157                0.791                 0.052  \n",
            "110                 0.100                0.841                 0.058  \n",
            "111                 0.168                0.699                 0.133  \n",
            "112                 0.000                1.000                 0.000  \n",
            "113                 0.177                0.823                 0.000  \n",
            "114                 0.000                1.000                 0.000  \n",
            "115                 0.452                0.548                 0.000  \n",
            "116                 0.000                1.000                 0.000  \n",
            "117                 0.172                0.828                 0.000  \n",
            "118                 0.223                0.777                 0.000  \n",
            "119                 0.000                0.879                 0.121  \n"
          ]
        }
      ]
    },
    {
      "cell_type": "markdown",
      "source": [
        "1-3. State a reason why you have selected the sentiment analysis algorithm for your main\n",
        "analysis."
      ],
      "metadata": {
        "id": "59Eh5e_Q3z_L"
      }
    },
    {
      "cell_type": "markdown",
      "source": [
        "Ans - Vader was selected for the main analysis because it is mainly designed for sentiments expressed in social media. Vader also seems to work on negative sentiments classification."
      ],
      "metadata": {
        "id": "WGuhJy_C8YkA"
      }
    },
    {
      "cell_type": "markdown",
      "source": [
        "1-4. Compare the benchmark and the main analysis outputs. What differences do you see\n",
        "from both outputs?"
      ],
      "metadata": {
        "id": "1pTiks_Z33M8"
      }
    },
    {
      "cell_type": "markdown",
      "source": [
        "Ans - From the above we can see that Vader was much better in classifying the social media data in terms of positive, negative or compound. While Textblob is majorly for classifying the data with polarity. \n",
        "\n",
        "In cases without major polarity, textblob fails to accurately classify or  analyze the sentiments of the data. "
      ],
      "metadata": {
        "id": "6Q1BpYEt_DfG"
      }
    },
    {
      "cell_type": "markdown",
      "source": [
        "#Part 2. Implementing a (supervised) Sentiment Analysis using IMDB Data Set"
      ],
      "metadata": {
        "id": "WpCCkRCR3-Qa"
      }
    },
    {
      "cell_type": "markdown",
      "source": [
        "2-1. Using IMDB data set, choose a binary classification algorithm and show the outputs\n",
        "including performance metrics. "
      ],
      "metadata": {
        "id": "hlQThyWv4EcB"
      }
    },
    {
      "cell_type": "code",
      "source": [
        "import pandas as pd\n",
        "movie = pd.read_csv('/content/drive/MyDrive/Applied NLP/IMDB Dataset.csv')\n",
        "print(movie.iloc[:10,:1])\n",
        "print(\"Shape:\", movie.shape)\n",
        "print(\"Column Names\", movie.columns.values)"
      ],
      "metadata": {
        "colab": {
          "base_uri": "https://localhost:8080/"
        },
        "id": "_UZ5i2Fc1ca8",
        "outputId": "ff8b974c-c53e-4fae-ee2e-0bcb7815b47a"
      },
      "execution_count": 24,
      "outputs": [
        {
          "output_type": "stream",
          "name": "stdout",
          "text": [
            "                                              review\n",
            "0  One of the other reviewers has mentioned that ...\n",
            "1  A wonderful little production. <br /><br />The...\n",
            "2  I thought this was a wonderful way to spend ti...\n",
            "3  Basically there's a family where a little boy ...\n",
            "4  Petter Mattei's \"Love in the Time of Money\" is...\n",
            "5  Probably my all-time favorite movie, a story o...\n",
            "6  I sure would like to see a resurrection of a u...\n",
            "7  This show was an amazing, fresh & innovative i...\n",
            "8  Encouraged by the positive comments about this...\n",
            "9  If you like original gut wrenching laughter yo...\n",
            "Shape: (50000, 2)\n",
            "Column Names ['review' 'sentiment']\n"
          ]
        }
      ]
    },
    {
      "cell_type": "code",
      "source": [
        "categories = movie['sentiment']\n",
        "labels = list(set(categories))\n",
        "print ('possible categories', labels)\n",
        "\n",
        "count = movie['sentiment'].value_counts()\n",
        "print(count)"
      ],
      "metadata": {
        "colab": {
          "base_uri": "https://localhost:8080/"
        },
        "id": "TPqcWB1R1jys",
        "outputId": "06fb6a54-8aeb-42f2-8193-6d617490d41c"
      },
      "execution_count": 25,
      "outputs": [
        {
          "output_type": "stream",
          "name": "stdout",
          "text": [
            "possible categories ['positive', 'negative']\n",
            "positive    25000\n",
            "negative    25000\n",
            "Name: sentiment, dtype: int64\n"
          ]
        }
      ]
    },
    {
      "cell_type": "code",
      "source": [
        "movie['label_num'] = movie.sentiment.map({'negative':0, 'positive':1})\n",
        "print(\"Shape:\", movie.shape)\n",
        "print(\"Column Names:\",movie.columns.values)\n",
        "print(movie.iloc[:10,:1])"
      ],
      "metadata": {
        "colab": {
          "base_uri": "https://localhost:8080/"
        },
        "id": "Dc8VuaO51qwX",
        "outputId": "027a418e-b8ec-4947-fc74-5137eeb95a82"
      },
      "execution_count": 26,
      "outputs": [
        {
          "output_type": "stream",
          "name": "stdout",
          "text": [
            "Shape: (50000, 3)\n",
            "Column Names: ['review' 'sentiment' 'label_num']\n",
            "                                              review\n",
            "0  One of the other reviewers has mentioned that ...\n",
            "1  A wonderful little production. <br /><br />The...\n",
            "2  I thought this was a wonderful way to spend ti...\n",
            "3  Basically there's a family where a little boy ...\n",
            "4  Petter Mattei's \"Love in the Time of Money\" is...\n",
            "5  Probably my all-time favorite movie, a story o...\n",
            "6  I sure would like to see a resurrection of a u...\n",
            "7  This show was an amazing, fresh & innovative i...\n",
            "8  Encouraged by the positive comments about this...\n",
            "9  If you like original gut wrenching laughter yo...\n"
          ]
        }
      ]
    },
    {
      "cell_type": "code",
      "source": [
        "from sklearn.model_selection import train_test_split\n",
        "\n",
        "X_train, X_test, y_train, y_test = train_test_split(movie['review'], \n",
        "                                                    movie['label_num'],\n",
        "                                                    random_state=0, \n",
        "                                                    test_size=0.25 #assign 25% to a test set.\n",
        "                                                    )\n",
        "\n",
        "print('Number of rows in the total set: {}'.format(movie.shape[0]))\n",
        "print('Number of rows in the training set: {}'.format(X_train.shape[0]))\n",
        "print('Number of rows in the test set: {}'.format(X_test.shape[0]))\n",
        "\n",
        "print (12500/50000)"
      ],
      "metadata": {
        "colab": {
          "base_uri": "https://localhost:8080/"
        },
        "id": "kzJRKC2w1tIn",
        "outputId": "38fabe43-d848-440b-ffec-7a3cd161d90f"
      },
      "execution_count": 27,
      "outputs": [
        {
          "output_type": "stream",
          "name": "stdout",
          "text": [
            "Number of rows in the total set: 50000\n",
            "Number of rows in the training set: 37500\n",
            "Number of rows in the test set: 12500\n",
            "0.25\n"
          ]
        }
      ]
    },
    {
      "cell_type": "code",
      "source": [
        "from sklearn.feature_extraction.text import TfidfVectorizer\n",
        "\n",
        "#generate CountVectorizer object.\n",
        "tfidf_vector = TfidfVectorizer(\n",
        "lowercase=True,                    \n",
        "stop_words='english',\n",
        "ngram_range=(1, 2),             #The lower and upper boundary of the range of n-values for different n-grams to be extracted.\n",
        "max_df=0.3,                     #used for removing terms that appear too frequently\n",
        "min_df=0.05                      #used for removing terms that appear too infrequently.  \n",
        ")\n",
        "\n",
        "# Fit the training data and then return the matrix\n",
        "training_data = tfidf_vector.fit_transform(X_train)\n",
        "\n",
        "# Transform testing data and return the matrix. Note we are not fitting the testing data into the CountVectorizer()\n",
        "testing_data = tfidf_vector.transform(X_test)\n",
        "\n",
        "\n",
        "print (\"Shape of training set\",training_data.shape)\n",
        "\n",
        "print (\"Shape of testing set\",testing_data.shape)"
      ],
      "metadata": {
        "colab": {
          "base_uri": "https://localhost:8080/"
        },
        "id": "SV6JCoYz1xmS",
        "outputId": "c36ec79f-cb42-49d2-f331-9ca0ee97e3b0"
      },
      "execution_count": 28,
      "outputs": [
        {
          "output_type": "stream",
          "name": "stdout",
          "text": [
            "Shape of training set (37500, 248)\n",
            "Shape of testing set (12500, 248)\n"
          ]
        }
      ]
    },
    {
      "cell_type": "code",
      "source": [
        "vocab_dict=tfidf_vector.vocabulary_\n",
        "print (\"Unique Vocabulary: \",vocab_dict)\n",
        "print (len(vocab_dict))"
      ],
      "metadata": {
        "colab": {
          "base_uri": "https://localhost:8080/"
        },
        "id": "b3jtjVPh12dA",
        "outputId": "986464f0-c5b4-4f7e-9ebe-c631cf0a93a9"
      },
      "execution_count": 29,
      "outputs": [
        {
          "output_type": "stream",
          "name": "stdout",
          "text": [
            "Unique Vocabulary:  {'story': 199, 'looking': 120, 'way': 230, 'home': 93, 'old': 146, 'young': 247, 'american': 7, 'family': 66, 'got': 83, 'years': 245, 'later': 107, 'perfect': 150, 'man': 131, 'role': 174, 'does': 50, 'great': 84, 'work': 237, 'don': 53, 'actor': 4, 'second': 183, 'actors': 5, 'plays': 159, 'hope': 94, 'quite': 166, 'watch': 227, 'trying': 215, 'scene': 178, 'funny': 75, 'big': 17, 'looks': 121, 'fun': 74, 'use': 218, 'films': 71, 'play': 156, 'best': 15, 'interesting': 100, 'horror': 95, 'making': 130, 'doesn': 51, 'acting': 2, 'entertaining': 60, 'nice': 143, 'comedy': 35, 'high': 91, '10': 0, 'year': 244, 'guy': 85, 'night': 144, 'rest': 172, 'set': 188, 'say': 177, 'movies': 139, 'll': 117, 'love': 124, 'music': 140, 'audience': 8, 'watched': 228, 'right': 173, 'thought': 209, 'watching': 229, 'away': 9, 'think': 208, 'going': 82, 'wife': 232, 'getting': 77, 'pretty': 163, 'house': 96, 'know': 106, 'life': 111, 'help': 90, 'production': 165, 'written': 242, 'original': 147, 'mean': 133, 'come': 34, 'feel': 70, 'bit': 18, 'read': 167, 'maybe': 132, 'sort': 194, 'person': 153, 'simply': 192, 'didn': 47, 'thing': 206, 'boring': 21, 'world': 238, 'lot': 123, 'probably': 164, 'wasn': 225, 'start': 198, 'character': 31, 've': 220, 'director': 49, 'job': 102, 'people': 149, 'definitely': 44, 'moments': 137, 'far': 68, 'actually': 6, 'version': 222, 'saw': 176, 'awful': 10, 'based': 12, 'tell': 204, 'try': 214, 'live': 116, 'makes': 129, 'better': 16, 'beautiful': 13, 'completely': 37, 'little': 115, 'scenes': 179, 'worth': 241, 'money': 138, 'gets': 76, 'head': 89, 'camera': 27, 'make': 128, 'look': 119, 'different': 48, 'real': 168, 'small': 193, 'plot': 160, 'excellent': 63, 'fact': 65, 'day': 41, 'cast': 29, 'human': 97, 'characters': 32, 'wonderful': 236, 'seen': 185, 'given': 79, 'understand': 217, 'true': 212, 'won': 235, 've seen': 221, 'girl': 78, 'goes': 81, 'seeing': 184, 'book': 20, 'did': 46, 'played': 157, 'lost': 122, 'action': 3, 'came': 26, 'worst': 240, 'shot': 190, 'death': 43, 'said': 175, 'school': 180, 'new': 142, 'bad': 11, 'early': 55, 'title': 211, 'comes': 36, 'couple': 39, 'overall': 148, 'hard': 87, 'poor': 162, 'br film': 22, 'series': 187, 'called': 25, 'isn': 101, 'main': 127, 'used': 219, 'oh': 145, 'point': 161, 'let': 110, 'yes': 246, 'minutes': 136, 'reason': 169, 'shows': 191, 'hollywood': 92, 'star': 196, 'john': 103, 'father': 69, 'friends': 73, 'stars': 197, 'things': 207, 'sure': 202, 'women': 234, 'finally': 72, 'gives': 80, 'idea': 98, 'woman': 233, 'dvd': 54, 'worse': 239, 'want': 224, 'end': 57, 'low': 126, 'budget': 24, 'screen': 181, 'performance': 151, 'sense': 186, 'laugh': 108, 'kids': 104, 'style': 201, 'enjoy': 59, 'entire': 61, 'performances': 152, 'kind': 105, 'dead': 42, 'case': 28, 'believe': 14, 'takes': 203, 'piece': 154, 'absolutely': 1, 'wrong': 243, 'terrible': 205, 'special': 195, 'half': 86, 'left': 109, 'waste': 226, 'course': 40, 'loved': 125, 'tv': 216, 'place': 155, 'short': 189, 'instead': 99, 'fan': 67, 'ending': 58, 'having': 88, 'men': 134, 'line': 113, 'certainly': 30, 'video': 223, 'especially': 62, 'script': 182, 'stupid': 200, 'lines': 114, 'remember': 171, 'effects': 56, 'liked': 112, 'truly': 213, 'recommend': 170, 'need': 141, 'long': 118, 'doing': 52, 'went': 231, 'times': 210, 'mind': 135, 'face': 64, 'playing': 158, 'classic': 33, 'br movie': 23, 'black': 19, 'couldn': 38, 'dialogue': 45}\n",
            "248\n"
          ]
        }
      ]
    },
    {
      "cell_type": "markdown",
      "source": [
        "#Benchmark - Naive Bayes"
      ],
      "metadata": {
        "id": "bTLvJEKu_thU"
      }
    },
    {
      "cell_type": "code",
      "source": [
        "from sklearn.naive_bayes import MultinomialNB\n",
        "\n",
        "#choose a model.\n",
        "naive_bayes = MultinomialNB()\n",
        "\n",
        "#fit your training set to the model.\n",
        "naive_bayes.fit(training_data, y_train)\n",
        "\n",
        "#predict the labels for testing set.\n",
        "predicted = naive_bayes.predict(testing_data)"
      ],
      "metadata": {
        "id": "80_5RNLS1_sC"
      },
      "execution_count": 30,
      "outputs": []
    },
    {
      "cell_type": "code",
      "source": [
        "from sklearn.metrics import accuracy_score, precision_score, recall_score, f1_score\n",
        "\n",
        "print('Accuracy score: ', format(accuracy_score(y_test, predicted)))\n",
        "print('Precision score: ', format(precision_score(y_test, predicted)))\n",
        "print('Recall score: ', format(recall_score(y_test, predicted)))\n",
        "print('F1 score: ', format(f1_score(y_test, predicted)))"
      ],
      "metadata": {
        "colab": {
          "base_uri": "https://localhost:8080/"
        },
        "id": "DmvcOuJP2Fb9",
        "outputId": "6816c2bf-a757-47f5-a047-8b194c7319cd"
      },
      "execution_count": 31,
      "outputs": [
        {
          "output_type": "stream",
          "name": "stdout",
          "text": [
            "Accuracy score:  0.79544\n",
            "Precision score:  0.7794612794612794\n",
            "Recall score:  0.8202609115799646\n",
            "F1 score:  0.7993408145648592\n"
          ]
        }
      ]
    },
    {
      "cell_type": "code",
      "source": [
        "# Precision/Recall/F1-score measures for each element in the test data.\n",
        "from sklearn.metrics import classification_report\n",
        "\n",
        "print(classification_report(y_test, predicted))"
      ],
      "metadata": {
        "colab": {
          "base_uri": "https://localhost:8080/"
        },
        "id": "knVlZTWQ2ID7",
        "outputId": "d7fa7895-ef44-43e6-89b3-1a32e287a8e2"
      },
      "execution_count": 32,
      "outputs": [
        {
          "output_type": "stream",
          "name": "stdout",
          "text": [
            "              precision    recall  f1-score   support\n",
            "\n",
            "           0       0.81      0.77      0.79      6291\n",
            "           1       0.78      0.82      0.80      6209\n",
            "\n",
            "    accuracy                           0.80     12500\n",
            "   macro avg       0.80      0.80      0.80     12500\n",
            "weighted avg       0.80      0.80      0.80     12500\n",
            "\n"
          ]
        }
      ]
    },
    {
      "cell_type": "code",
      "source": [
        "from sklearn.metrics import confusion_matrix\n",
        "import matplotlib.pyplot as plt\n",
        "import seaborn as sns\n",
        "\n",
        "cm = confusion_matrix(y_test, predicted)\n",
        "cm_df = pd.DataFrame(cm,index = ['negative','positive'],\n",
        "                     columns = ['negative','positive']  \n",
        "                     )\n",
        "\n",
        "#Plotting the confusion matrix\n",
        "plt.figure(figsize=(6,4))\n",
        "sns.heatmap(cm_df, annot=True , fmt=\".0f\")\n",
        "plt.title('Confusion Matrix')\n",
        "plt.ylabel('Actal Values')\n",
        "plt.xlabel('Predicted Values')\n",
        "plt.show()"
      ],
      "metadata": {
        "colab": {
          "base_uri": "https://localhost:8080/",
          "height": 295
        },
        "id": "0Q19coAP2K0j",
        "outputId": "62eef736-9021-46c7-bbfa-24dc6744799e"
      },
      "execution_count": 33,
      "outputs": [
        {
          "output_type": "display_data",
          "data": {
            "text/plain": [
              "<Figure size 432x288 with 2 Axes>"
            ],
            "image/png": "[encoded data removed]"
          },
          "metadata": {
            "needs_background": "light"
          }
        }
      ]
    },
    {
      "cell_type": "markdown",
      "source": [
        "2-2. Assuming that your benchmark algorithm is NB classification, compare the benchmark\n",
        "and the main analysis outputs. Can you generate the better performance using your own\n",
        "classification algorithm? If so, what strategies/efforts did you take/make to increase the\n",
        "performance?"
      ],
      "metadata": {
        "id": "ypyp6WtQ4MZt"
      }
    },
    {
      "cell_type": "markdown",
      "source": [
        "#Main Analysis - Logistic Regression"
      ],
      "metadata": {
        "id": "vzK0ILYp_0v7"
      }
    },
    {
      "cell_type": "code",
      "source": [
        "from sklearn.linear_model import LogisticRegression\n",
        "\n",
        "lr = LogisticRegression()\n",
        "lr.fit(training_data, y_train)\n",
        "lr_predicted = lr.predict(testing_data)"
      ],
      "metadata": {
        "id": "z_GtCR_V2N1A"
      },
      "execution_count": 34,
      "outputs": []
    },
    {
      "cell_type": "code",
      "source": [
        "print('Accuracy score: ', format(accuracy_score(y_test, lr_predicted)))\n",
        "print('Precision score: ', format(precision_score(y_test, lr_predicted)))\n",
        "print('Recall score: ', format(recall_score(y_test, lr_predicted)))\n",
        "print('F1 score: ', format(f1_score(y_test, lr_predicted)))"
      ],
      "metadata": {
        "colab": {
          "base_uri": "https://localhost:8080/"
        },
        "id": "YU1mYWvC2QZ2",
        "outputId": "c9ee6bf5-5f45-4f95-eefb-44e3e1bcb4eb"
      },
      "execution_count": 35,
      "outputs": [
        {
          "output_type": "stream",
          "name": "stdout",
          "text": [
            "Accuracy score:  0.80696\n",
            "Precision score:  0.7945375543140907\n",
            "Recall score:  0.8246094379127074\n",
            "F1 score:  0.809294238520509\n"
          ]
        }
      ]
    },
    {
      "cell_type": "code",
      "source": [
        "print(classification_report(y_test, lr_predicted))"
      ],
      "metadata": {
        "colab": {
          "base_uri": "https://localhost:8080/"
        },
        "id": "o7P6GJIq2Syn",
        "outputId": "1dc601c6-f90c-491a-dd74-1c0e79fece65"
      },
      "execution_count": 36,
      "outputs": [
        {
          "output_type": "stream",
          "name": "stdout",
          "text": [
            "              precision    recall  f1-score   support\n",
            "\n",
            "           0       0.82      0.79      0.80      6291\n",
            "           1       0.79      0.82      0.81      6209\n",
            "\n",
            "    accuracy                           0.81     12500\n",
            "   macro avg       0.81      0.81      0.81     12500\n",
            "weighted avg       0.81      0.81      0.81     12500\n",
            "\n"
          ]
        }
      ]
    },
    {
      "cell_type": "code",
      "source": [
        "cm_lr = confusion_matrix(y_test, lr_predicted)\n",
        "cm_df_lr = pd.DataFrame(cm_lr,index = ['negative','positive'],\n",
        "                     columns = ['negative','positive']  \n",
        "                     )\n",
        "\n",
        "#Plotting the confusion matrix\n",
        "plt.figure(figsize=(6,4))\n",
        "sns.heatmap(cm_df_lr, annot=True , fmt=\".0f\")\n",
        "plt.title('Confusion Matrix')\n",
        "plt.ylabel('Actal Values')\n",
        "plt.xlabel('Predicted Values')\n",
        "plt.show()"
      ],
      "metadata": {
        "colab": {
          "base_uri": "https://localhost:8080/",
          "height": 295
        },
        "id": "WjgZIs5M2UvE",
        "outputId": "890e7dbd-db89-4f31-a400-4acf6497d115"
      },
      "execution_count": 37,
      "outputs": [
        {
          "output_type": "display_data",
          "data": {
            "text/plain": [
              "<Figure size 432x288 with 2 Axes>"
            ],
            "image/png": "[encoded data removed]"
          },
          "metadata": {
            "needs_background": "light"
          }
        }
      ]
    },
    {
      "cell_type": "markdown",
      "source": [
        "Ans - As we can see Logistic Regression has better accuracy and F1 Score then Naive Bayes, so LR is a better algorithm then NB. \n",
        "\n",
        "Different strategies that can be considered to increase the performance can be such as parameter tuning, hyper parameter optimization and customization . "
      ],
      "metadata": {
        "id": "ieFUBldNAUHc"
      }
    },
    {
      "cell_type": "code",
      "source": [
        ""
      ],
      "metadata": {
        "id": "X4droEzf2XQr"
      },
      "execution_count": 38,
      "outputs": []
    }
  ]
}